{
 "cells": [
  {
   "cell_type": "markdown",
   "metadata": {},
   "source": [
    "# for label encoding the fucntions"
   ]
  },
  {
   "cell_type": "code",
   "execution_count": 1,
   "metadata": {},
   "outputs": [],
   "source": [
    "#converting the label encoding to the using factorize and so that we can use it to compare the same with predticing the values\n",
    "def cat_to_int(x):\n",
    "    lab,unique=pd.factorize(x)\n",
    "    sam=x.name\n",
    "    x=lab\n",
    "    dframe=pd.DataFrame(unique)\n",
    "    dframe.to_csv(sam+\".csv\")\n",
    "    return x"
   ]
  },
  {
   "cell_type": "code",
   "execution_count": null,
   "metadata": {},
   "outputs": [],
   "source": [
    "for i in range(len(dataset.columns)):\n",
    "    if(type(dataset.iloc[:,i][2])==str):\n",
    "        dataset.iloc[:,i]=cat_to_int(dataset.iloc[:,i])\n",
    "    else:\n",
    "        dataset.iloc[:,i]=dataset.iloc[:,i]\n",
    "    i=i+1"
   ]
  },
  {
   "cell_type": "markdown",
   "metadata": {},
   "source": [
    "# for decoding"
   ]
  },
  {
   "cell_type": "code",
   "execution_count": 2,
   "metadata": {},
   "outputs": [],
   "source": [
    "import pandas as pd\n",
    "def decode_label(x,y):\n",
    "    if(type(x)==str):\n",
    "        decode=pd.read_csv(y+'.csv')\n",
    "        x=int(decode[decode['0']==x].index.values)\n",
    "        return x\n",
    "    else:\n",
    "        return x"
   ]
  },
  {
   "cell_type": "code",
   "execution_count": null,
   "metadata": {},
   "outputs": [],
   "source": [
    "#label decoding the values from the function\n",
    "for key,value in z.items():\n",
    "    if(type(value)==str):        \n",
    "        z[key]=decode_label(z[key],key)\n",
    "        print(z[key])\n",
    "    else:\n",
    "        print(key,\"->\",value)\n",
    "    \n",
    "        \n"
   ]
  }
 ],
 "metadata": {
  "kernelspec": {
   "display_name": "Python 3",
   "language": "python",
   "name": "python3"
  },
  "language_info": {
   "codemirror_mode": {
    "name": "ipython",
    "version": 3
   },
   "file_extension": ".py",
   "mimetype": "text/x-python",
   "name": "python",
   "nbconvert_exporter": "python",
   "pygments_lexer": "ipython3",
   "version": "3.7.3"
  }
 },
 "nbformat": 4,
 "nbformat_minor": 2
}
