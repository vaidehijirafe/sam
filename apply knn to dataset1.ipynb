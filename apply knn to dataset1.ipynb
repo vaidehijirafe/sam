{
 "cells": [
  {
   "cell_type": "code",
   "execution_count": 4,
   "metadata": {},
   "outputs": [],
   "source": [
    "import pandas as pd\n",
    "import numpy as np\n",
    "import matplotlib.pyplot as plt\n",
    "import seaborn as sns\n"
   ]
  },
  {
   "cell_type": "code",
   "execution_count": 5,
   "metadata": {},
   "outputs": [],
   "source": [
    "dataset1=pd.read_csv('dataset1.csv')"
   ]
  },
  {
   "cell_type": "code",
   "execution_count": 9,
   "metadata": {},
   "outputs": [
    {
     "name": "stdout",
     "output_type": "stream",
     "text": [
      "<class 'numpy.int64'>\n",
      "<class 'numpy.int64'>\n",
      "<class 'numpy.int64'>\n",
      "<class 'numpy.int64'>\n",
      "<class 'str'>\n",
      "<class 'str'>\n",
      "<class 'str'>\n",
      "<class 'str'>\n",
      "<class 'str'>\n",
      "<class 'str'>\n",
      "<class 'str'>\n",
      "<class 'numpy.int64'>\n"
     ]
    }
   ],
   "source": [
    "from sklearn.preprocessing import LabelEncoder\n",
    "for i in range(len(dataset1.columns)):\n",
    "    typ=type(dataset1.iloc[1,i])\n",
    "    #if(typ==str):\n",
    "    print(typ)    "
   ]
  },
  {
   "cell_type": "code",
   "execution_count": 11,
   "metadata": {},
   "outputs": [
    {
     "data": {
      "text/plain": [
       "Index(['Unnamed: 0', 'Unnamed: 0.1', 'Unnamed: 0.1.1', 'Sr.No.',\n",
       "       'Cut Off Merit (Score)', 'Choice Code', 'Institute', 'Course Name',\n",
       "       'Exam (JEE/MHT- CET)', 'Type', 'Seat Type', 'score'],\n",
       "      dtype='object')"
      ]
     },
     "execution_count": 11,
     "metadata": {},
     "output_type": "execute_result"
    }
   ],
   "source": [
    "dataset1.columns"
   ]
  },
  {
   "cell_type": "code",
   "execution_count": 12,
   "metadata": {},
   "outputs": [],
   "source": [
    "x=dataset1[['score','Type','Seat Type','Exam (JEE/MHT- CET)']]"
   ]
  },
  {
   "cell_type": "code",
   "execution_count": 23,
   "metadata": {},
   "outputs": [
    {
     "data": {
      "text/plain": [
       "Index(['score', 'Type', 'Seat Type', 'Exam (JEE/MHT- CET)'], dtype='object')"
      ]
     },
     "execution_count": 23,
     "metadata": {},
     "output_type": "execute_result"
    }
   ],
   "source": [
    "x.columns"
   ]
  },
  {
   "cell_type": "code",
   "execution_count": 16,
   "metadata": {
    "scrolled": true
   },
   "outputs": [
    {
     "name": "stderr",
     "output_type": "stream",
     "text": [
      "c:\\users\\vaidehi jirafe\\appdata\\local\\programs\\python\\python37\\lib\\site-packages\\pandas\\core\\indexing.py:965: SettingWithCopyWarning: \n",
      "A value is trying to be set on a copy of a slice from a DataFrame.\n",
      "Try using .loc[row_indexer,col_indexer] = value instead\n",
      "\n",
      "See the caveats in the documentation: https://pandas.pydata.org/pandas-docs/stable/user_guide/indexing.html#returning-a-view-versus-a-copy\n",
      "  self.obj[item] = s\n"
     ]
    }
   ],
   "source": [
    "for i in range(len(x.columns)):\n",
    "    typ=type(x.iloc[1,i])\n",
    "    if(typ==str):\n",
    "        x.iloc[:,i]=LabelEncoder().fit_transform(x.iloc[:,i])"
   ]
  },
  {
   "cell_type": "code",
   "execution_count": 17,
   "metadata": {},
   "outputs": [
    {
     "data": {
      "text/html": [
       "<div>\n",
       "<style scoped>\n",
       "    .dataframe tbody tr th:only-of-type {\n",
       "        vertical-align: middle;\n",
       "    }\n",
       "\n",
       "    .dataframe tbody tr th {\n",
       "        vertical-align: top;\n",
       "    }\n",
       "\n",
       "    .dataframe thead th {\n",
       "        text-align: right;\n",
       "    }\n",
       "</style>\n",
       "<table border=\"1\" class=\"dataframe\">\n",
       "  <thead>\n",
       "    <tr style=\"text-align: right;\">\n",
       "      <th></th>\n",
       "      <th>score</th>\n",
       "      <th>Type</th>\n",
       "      <th>Seat Type</th>\n",
       "      <th>Exam (JEE/MHT- CET)</th>\n",
       "    </tr>\n",
       "  </thead>\n",
       "  <tbody>\n",
       "    <tr>\n",
       "      <th>0</th>\n",
       "      <td>207</td>\n",
       "      <td>0</td>\n",
       "      <td>0</td>\n",
       "      <td>1</td>\n",
       "    </tr>\n",
       "    <tr>\n",
       "      <th>1</th>\n",
       "      <td>191</td>\n",
       "      <td>0</td>\n",
       "      <td>0</td>\n",
       "      <td>1</td>\n",
       "    </tr>\n",
       "    <tr>\n",
       "      <th>2</th>\n",
       "      <td>187</td>\n",
       "      <td>0</td>\n",
       "      <td>0</td>\n",
       "      <td>1</td>\n",
       "    </tr>\n",
       "    <tr>\n",
       "      <th>3</th>\n",
       "      <td>182</td>\n",
       "      <td>0</td>\n",
       "      <td>0</td>\n",
       "      <td>1</td>\n",
       "    </tr>\n",
       "    <tr>\n",
       "      <th>4</th>\n",
       "      <td>175</td>\n",
       "      <td>0</td>\n",
       "      <td>0</td>\n",
       "      <td>1</td>\n",
       "    </tr>\n",
       "    <tr>\n",
       "      <th>...</th>\n",
       "      <td>...</td>\n",
       "      <td>...</td>\n",
       "      <td>...</td>\n",
       "      <td>...</td>\n",
       "    </tr>\n",
       "    <tr>\n",
       "      <th>1112</th>\n",
       "      <td>39</td>\n",
       "      <td>0</td>\n",
       "      <td>0</td>\n",
       "      <td>0</td>\n",
       "    </tr>\n",
       "    <tr>\n",
       "      <th>1113</th>\n",
       "      <td>39</td>\n",
       "      <td>1</td>\n",
       "      <td>2</td>\n",
       "      <td>0</td>\n",
       "    </tr>\n",
       "    <tr>\n",
       "      <th>1114</th>\n",
       "      <td>39</td>\n",
       "      <td>0</td>\n",
       "      <td>0</td>\n",
       "      <td>0</td>\n",
       "    </tr>\n",
       "    <tr>\n",
       "      <th>1115</th>\n",
       "      <td>39</td>\n",
       "      <td>0</td>\n",
       "      <td>0</td>\n",
       "      <td>0</td>\n",
       "    </tr>\n",
       "    <tr>\n",
       "      <th>1116</th>\n",
       "      <td>38</td>\n",
       "      <td>2</td>\n",
       "      <td>30</td>\n",
       "      <td>0</td>\n",
       "    </tr>\n",
       "  </tbody>\n",
       "</table>\n",
       "<p>1117 rows × 4 columns</p>\n",
       "</div>"
      ],
      "text/plain": [
       "      score  Type  Seat Type  Exam (JEE/MHT- CET)\n",
       "0       207     0          0                    1\n",
       "1       191     0          0                    1\n",
       "2       187     0          0                    1\n",
       "3       182     0          0                    1\n",
       "4       175     0          0                    1\n",
       "...     ...   ...        ...                  ...\n",
       "1112     39     0          0                    0\n",
       "1113     39     1          2                    0\n",
       "1114     39     0          0                    0\n",
       "1115     39     0          0                    0\n",
       "1116     38     2         30                    0\n",
       "\n",
       "[1117 rows x 4 columns]"
      ]
     },
     "execution_count": 17,
     "metadata": {},
     "output_type": "execute_result"
    }
   ],
   "source": [
    "x"
   ]
  },
  {
   "cell_type": "code",
   "execution_count": 29,
   "metadata": {},
   "outputs": [],
   "source": [
    "from sklearn.neighbors import NearestNeighbors"
   ]
  },
  {
   "cell_type": "code",
   "execution_count": 30,
   "metadata": {},
   "outputs": [],
   "source": [
    "model_knn=NearestNeighbors(metric='cosine',algorithm='brute').fit(x)"
   ]
  },
  {
   "cell_type": "code",
   "execution_count": 31,
   "metadata": {},
   "outputs": [
    {
     "data": {
      "text/plain": [
       "score                  80\n",
       "Type                    0\n",
       "Seat Type               0\n",
       "Exam (JEE/MHT- CET)     1\n",
       "Name: 110, dtype: int64"
      ]
     },
     "execution_count": 31,
     "metadata": {},
     "output_type": "execute_result"
    }
   ],
   "source": [
    "x.iloc[110]"
   ]
  },
  {
   "cell_type": "code",
   "execution_count": 33,
   "metadata": {},
   "outputs": [
    {
     "data": {
      "text/plain": [
       "NearestNeighbors(algorithm='brute', leaf_size=30, metric='cosine',\n",
       "                 metric_params=None, n_jobs=None, n_neighbors=5, p=2,\n",
       "                 radius=1.0)"
      ]
     },
     "execution_count": 33,
     "metadata": {},
     "output_type": "execute_result"
    }
   ],
   "source": [
    "model_knn"
   ]
  },
  {
   "cell_type": "markdown",
   "metadata": {},
   "source": [
    "    distance,indices=model_knn.k"
   ]
  },
  {
   "cell_type": "code",
   "execution_count": 34,
   "metadata": {},
   "outputs": [],
   "source": [
    "distance,indices=model_knn.kneighbors(x.iloc[11].values.reshape(1,-1),n_neighbors=15)"
   ]
  },
  {
   "cell_type": "code",
   "execution_count": 35,
   "metadata": {},
   "outputs": [
    {
     "data": {
      "text/plain": [
       "array([[0.00000000e+00, 0.00000000e+00, 0.00000000e+00, 9.25456334e-09,\n",
       "        1.66786958e-08, 3.28702986e-08, 7.05261128e-08, 1.41339440e-07,\n",
       "        1.41339440e-07, 1.61927439e-07, 2.00074002e-07, 2.74321216e-07,\n",
       "        3.07549746e-07, 3.16792168e-07, 3.16792168e-07]])"
      ]
     },
     "execution_count": 35,
     "metadata": {},
     "output_type": "execute_result"
    }
   ],
   "source": [
    "distance"
   ]
  },
  {
   "cell_type": "code",
   "execution_count": 36,
   "metadata": {},
   "outputs": [
    {
     "data": {
      "text/plain": [
       "array([[12, 11, 13, 14, 15, 10, 16,  8,  9,  7, 17, 18,  6, 19, 20]],\n",
       "      dtype=int64)"
      ]
     },
     "execution_count": 36,
     "metadata": {},
     "output_type": "execute_result"
    }
   ],
   "source": [
    "indices"
   ]
  },
  {
   "cell_type": "code",
   "execution_count": 39,
   "metadata": {},
   "outputs": [],
   "source": [
    "y=dataset1['Course Name']\n",
    "z=dataset1['Institute']"
   ]
  },
  {
   "cell_type": "code",
   "execution_count": 51,
   "metadata": {},
   "outputs": [
    {
     "name": "stdout",
     "output_type": "stream",
     "text": [
      "('Electronics and Telecommunication\\nEngg', \"3215 - Bhartiya Vidya Bhavan's Sardar Patel Institute  of Technology , Andheri, Mumbai\", 0.0)\n",
      "('Computer Engineering', \"6273 - Bansilal Ramnath Agarawal Charitable Trust's Vishwakarma Institute of\\nTechnology, Bibwewadi, Pune\", 0.0)\n",
      "('Computer Engineering', '3181 - K.J.Somaiya College of Engineering, Vidyavihar, Mumbai', 0.0)\n",
      "('Information Technology', \"6273 - Bansilal Ramnath Agarawal Charitable Trust's Vishwakarma Institute of\\nTechnology, Bibwewadi, Pune\", 9.254563337890431e-09)\n",
      "('Surface Coating Technology', '3036 - Institute of Chemical Technology, Matunga, Mumbai', 1.667869575783243e-08)\n",
      "('Information Technology', \"3199 - Shri Vile Parle Kelvani Mandal's Dwarkadas J. Sanghvi College of Engineering,\\nVile Parle,Mumbai\", 3.287029859411206e-08)\n",
      "('Computer Science and Engineering', '4115 - Shri Ramdeobaba College of Engineering and Management, Nagpur', 7.052611283864252e-08)\n",
      "('Computer Engineering', \"3199 - Shri Vile Parle Kelvani Mandal's Dwarkadas J. Sanghvi College of Engineering,\\nVile Parle,Mumbai\", 1.4133943970762175e-07)\n",
      "('Information Technology', '6271 - Pune Institute of Computer Technology, Dhankavdi, Pune', 1.4133943970762175e-07)\n",
      "('Mechanical Engineering', '3181 - K.J.Somaiya College of Engineering, Vidyavihar, Mumbai', 1.6192743945708798e-07)\n",
      "('Computer Engineering', '3182 - Thadomal Shahani Engineering College, Bandra, Mumbai', 2.0007400225452443e-07)\n",
      "('Information Technology', '4115 - Shri Ramdeobaba College of Engineering and Management, Nagpur', 2.7432121552095623e-07)\n",
      "('Computer Engineering', '6271 - Pune Institute of Computer Technology, Dhankavdi, Pune', 3.075497460036658e-07)\n",
      "('Electronics Engineering', \"3215 - Bhartiya Vidya Bhavan's Sardar Patel Institute  of Technology , Andheri, Mumbai\", 3.1679216805358124e-07)\n",
      "('Information Technology', '3181 - K.J.Somaiya College of Engineering, Vidyavihar, Mumbai', 3.1679216805358124e-07)\n"
     ]
    }
   ],
   "source": [
    "dic={}\n",
    "k=pd.DataFrame()\n",
    "for i in range(len(indices.flatten())):\n",
    "    dic=(y[indices.flatten()[i]],z[indices.flatten()[i]],distance.flatten()[i])\n",
    "    print(dic)\n",
    "    "
   ]
  },
  {
   "cell_type": "code",
   "execution_count": 52,
   "metadata": {},
   "outputs": [
    {
     "data": {
      "text/plain": [
       "'Computer Engineering'"
      ]
     },
     "execution_count": 52,
     "metadata": {},
     "output_type": "execute_result"
    }
   ],
   "source": [
    "y[11]"
   ]
  },
  {
   "cell_type": "code",
   "execution_count": 53,
   "metadata": {},
   "outputs": [
    {
     "data": {
      "text/plain": [
       "('Information Technology',\n",
       " '3181 - K.J.Somaiya College of Engineering, Vidyavihar, Mumbai',\n",
       " 3.1679216805358124e-07)"
      ]
     },
     "execution_count": 53,
     "metadata": {},
     "output_type": "execute_result"
    }
   ],
   "source": [
    "dic"
   ]
  },
  {
   "cell_type": "code",
   "execution_count": 64,
   "metadata": {},
   "outputs": [],
   "source": [
    "sa=np.sort(distance[0])"
   ]
  },
  {
   "cell_type": "code",
   "execution_count": 69,
   "metadata": {},
   "outputs": [],
   "source": [
    "sa=(distance,indices)"
   ]
  },
  {
   "cell_type": "code",
   "execution_count": 70,
   "metadata": {},
   "outputs": [
    {
     "data": {
      "text/plain": [
       "(array([[0.00000000e+00, 0.00000000e+00, 0.00000000e+00, 9.25456334e-09,\n",
       "         1.66786958e-08, 3.28702986e-08, 7.05261128e-08, 1.41339440e-07,\n",
       "         1.41339440e-07, 1.61927439e-07, 2.00074002e-07, 2.74321216e-07,\n",
       "         3.07549746e-07, 3.16792168e-07, 3.16792168e-07]]),\n",
       " array([[12, 11, 13, 14, 15, 10, 16,  8,  9,  7, 17, 18,  6, 19, 20]],\n",
       "       dtype=int64))"
      ]
     },
     "execution_count": 70,
     "metadata": {},
     "output_type": "execute_result"
    }
   ],
   "source": [
    "sa"
   ]
  },
  {
   "cell_type": "code",
   "execution_count": null,
   "metadata": {},
   "outputs": [],
   "source": []
  },
  {
   "cell_type": "code",
   "execution_count": null,
   "metadata": {},
   "outputs": [],
   "source": []
  }
 ],
 "metadata": {
  "kernelspec": {
   "display_name": "Python 3",
   "language": "python",
   "name": "python3"
  },
  "language_info": {
   "codemirror_mode": {
    "name": "ipython",
    "version": 3
   },
   "file_extension": ".py",
   "mimetype": "text/x-python",
   "name": "python",
   "nbconvert_exporter": "python",
   "pygments_lexer": "ipython3",
   "version": "3.7.6"
  }
 },
 "nbformat": 4,
 "nbformat_minor": 4
}
