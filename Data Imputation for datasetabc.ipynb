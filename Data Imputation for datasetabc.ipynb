{
 "cells": [
  {
   "cell_type": "code",
   "execution_count": 41,
   "metadata": {},
   "outputs": [],
   "source": [
    "import pandas as pd\n",
    "import numpy as np \n",
    "import sklearn as sk \n",
    "import matplotlib.pyplot as plt\n"
   ]
  },
  {
   "cell_type": "code",
   "execution_count": 42,
   "metadata": {},
   "outputs": [],
   "source": [
    "#READING THE CSV FOR DATASET ABC\n",
    "datasetabc=pd.read_excel(r'C:\\Users\\user\\Desktop\\dataset_softronix\\dataset\\abc.xlsx')\n"
   ]
  },
  {
   "cell_type": "code",
   "execution_count": 43,
   "metadata": {},
   "outputs": [
    {
     "data": {
      "text/plain": [
       "Sr.No.                                                                   3\n",
       "Cut Off Merit (Score)                                        98607 (78.24)\n",
       "Choice Code                                                      211661210\n",
       "Institute                2116 - Matoshri Pratishan's Group of Instituti...\n",
       "Course Name                                         Mechanical Engineering\n",
       "Exam (JEE/MHT- CET)                                                Diploma\n",
       "Type                                                                   NaN\n",
       "Seat Type                                                              NaN\n",
       "Unnamed: 8                                                             NaN\n",
       "Name: 1119, dtype: object"
      ]
     },
     "execution_count": 43,
     "metadata": {},
     "output_type": "execute_result"
    }
   ],
   "source": [
    "datasetabc.iloc[1119]"
   ]
  },
  {
   "cell_type": "code",
   "execution_count": 44,
   "metadata": {},
   "outputs": [
    {
     "data": {
      "text/plain": [
       "Sr.No.                      0\n",
       "Cut Off Merit (Score)       0\n",
       "Choice Code                 0\n",
       "Institute                   0\n",
       "Course Name              1498\n",
       "Exam (JEE/MHT- CET)       538\n",
       "Type                      568\n",
       "Seat Type                 568\n",
       "Unnamed: 8               5651\n",
       "dtype: int64"
      ]
     },
     "execution_count": 44,
     "metadata": {},
     "output_type": "execute_result"
    }
   ],
   "source": [
    "#checking for Null values\n",
    "datasetabc.isna().sum()\n"
   ]
  },
  {
   "cell_type": "code",
   "execution_count": 45,
   "metadata": {},
   "outputs": [],
   "source": [
    "group_diploma=datasetabc.groupby(['Exam (JEE/MHT- CET)'])"
   ]
  },
  {
   "cell_type": "code",
   "execution_count": 46,
   "metadata": {},
   "outputs": [
    {
     "data": {
      "text/html": [
       "<div>\n",
       "<style scoped>\n",
       "    .dataframe tbody tr th:only-of-type {\n",
       "        vertical-align: middle;\n",
       "    }\n",
       "\n",
       "    .dataframe tbody tr th {\n",
       "        vertical-align: top;\n",
       "    }\n",
       "\n",
       "    .dataframe thead th {\n",
       "        text-align: right;\n",
       "    }\n",
       "</style>\n",
       "<table border=\"1\" class=\"dataframe\">\n",
       "  <thead>\n",
       "    <tr style=\"text-align: right;\">\n",
       "      <th></th>\n",
       "      <th>Sr.No.</th>\n",
       "    </tr>\n",
       "    <tr>\n",
       "      <th>Exam (JEE/MHT- CET)</th>\n",
       "      <th></th>\n",
       "    </tr>\n",
       "  </thead>\n",
       "  <tbody>\n",
       "    <tr>\n",
       "      <th>Aeronautical Engineering</th>\n",
       "      <td>526</td>\n",
       "    </tr>\n",
       "    <tr>\n",
       "      <th>Agricultural Engineering</th>\n",
       "      <td>625</td>\n",
       "    </tr>\n",
       "    <tr>\n",
       "      <th>Automobile Engineering</th>\n",
       "      <td>13039</td>\n",
       "    </tr>\n",
       "    <tr>\n",
       "      <th>Bio Medical Engineering</th>\n",
       "      <td>2992</td>\n",
       "    </tr>\n",
       "    <tr>\n",
       "      <th>Bio Technology</th>\n",
       "      <td>3236</td>\n",
       "    </tr>\n",
       "    <tr>\n",
       "      <th>CET</th>\n",
       "      <td>1166266</td>\n",
       "    </tr>\n",
       "    <tr>\n",
       "      <th>Chemical Engineering</th>\n",
       "      <td>11763</td>\n",
       "    </tr>\n",
       "    <tr>\n",
       "      <th>Civil Engineering</th>\n",
       "      <td>132768</td>\n",
       "    </tr>\n",
       "    <tr>\n",
       "      <th>Computer Engineering</th>\n",
       "      <td>128675</td>\n",
       "    </tr>\n",
       "    <tr>\n",
       "      <th>Computer Science and Engineering</th>\n",
       "      <td>53997</td>\n",
       "    </tr>\n",
       "    <tr>\n",
       "      <th>Computer Technology</th>\n",
       "      <td>5209</td>\n",
       "    </tr>\n",
       "    <tr>\n",
       "      <th>Diploma</th>\n",
       "      <td>465</td>\n",
       "    </tr>\n",
       "    <tr>\n",
       "      <th>Dyestuff Technology</th>\n",
       "      <td>39</td>\n",
       "    </tr>\n",
       "    <tr>\n",
       "      <th>Electrical Engg [Electrical and Power]</th>\n",
       "      <td>1784</td>\n",
       "    </tr>\n",
       "    <tr>\n",
       "      <th>Electrical Engg[Electronics and Power]</th>\n",
       "      <td>4652</td>\n",
       "    </tr>\n",
       "    <tr>\n",
       "      <th>Electrical Engineering</th>\n",
       "      <td>70244</td>\n",
       "    </tr>\n",
       "    <tr>\n",
       "      <th>Electronics Design Technology</th>\n",
       "      <td>83</td>\n",
       "    </tr>\n",
       "    <tr>\n",
       "      <th>Electronics Engineering</th>\n",
       "      <td>27268</td>\n",
       "    </tr>\n",
       "    <tr>\n",
       "      <th>Electronics and Communication\\nEngineering</th>\n",
       "      <td>15020</td>\n",
       "    </tr>\n",
       "    <tr>\n",
       "      <th>Electronics and Communication\\nTechnology</th>\n",
       "      <td>642</td>\n",
       "    </tr>\n",
       "    <tr>\n",
       "      <th>Electronics and Electrical Engineering</th>\n",
       "      <td>2422</td>\n",
       "    </tr>\n",
       "    <tr>\n",
       "      <th>Electronics and Telecommunication\\nEngg</th>\n",
       "      <td>128239</td>\n",
       "    </tr>\n",
       "    <tr>\n",
       "      <th>Environmental Engineering</th>\n",
       "      <td>585</td>\n",
       "    </tr>\n",
       "    <tr>\n",
       "      <th>Fibres and Textile Processing\\nTechnology</th>\n",
       "      <td>44</td>\n",
       "    </tr>\n",
       "    <tr>\n",
       "      <th>Food Engineering and Technology</th>\n",
       "      <td>1147</td>\n",
       "    </tr>\n",
       "    <tr>\n",
       "      <th>Industrial Engineering</th>\n",
       "      <td>198</td>\n",
       "    </tr>\n",
       "    <tr>\n",
       "      <th>Information Technology</th>\n",
       "      <td>74922</td>\n",
       "    </tr>\n",
       "    <tr>\n",
       "      <th>Instrumentation Engineering</th>\n",
       "      <td>7877</td>\n",
       "    </tr>\n",
       "    <tr>\n",
       "      <th>Instrumentation and Control\\nEngineering</th>\n",
       "      <td>745</td>\n",
       "    </tr>\n",
       "    <tr>\n",
       "      <th>JEE</th>\n",
       "      <td>2095987</td>\n",
       "    </tr>\n",
       "    <tr>\n",
       "      <th>Man Made Textile Technology</th>\n",
       "      <td>410</td>\n",
       "    </tr>\n",
       "    <tr>\n",
       "      <th>Mechanical Engineering</th>\n",
       "      <td>193924</td>\n",
       "    </tr>\n",
       "    <tr>\n",
       "      <th>Mechanical Engineering[Sandwich]</th>\n",
       "      <td>2629</td>\n",
       "    </tr>\n",
       "    <tr>\n",
       "      <th>Mechatronics Engineering</th>\n",
       "      <td>1056</td>\n",
       "    </tr>\n",
       "    <tr>\n",
       "      <th>Mining Engineering</th>\n",
       "      <td>1313</td>\n",
       "    </tr>\n",
       "    <tr>\n",
       "      <th>Oil,Oleochemicals and Surfactants\\nTechnology</th>\n",
       "      <td>14</td>\n",
       "    </tr>\n",
       "    <tr>\n",
       "      <th>Plastic and Polymer Engineering</th>\n",
       "      <td>1044</td>\n",
       "    </tr>\n",
       "    <tr>\n",
       "      <th>Polymer Engineering and Technology</th>\n",
       "      <td>7</td>\n",
       "    </tr>\n",
       "    <tr>\n",
       "      <th>Printing Engineering and Graphics\\nCommunication</th>\n",
       "      <td>616</td>\n",
       "    </tr>\n",
       "    <tr>\n",
       "      <th>Production Engineering</th>\n",
       "      <td>3717</td>\n",
       "    </tr>\n",
       "    <tr>\n",
       "      <th>Production Engineering[Sandwich]</th>\n",
       "      <td>778</td>\n",
       "    </tr>\n",
       "    <tr>\n",
       "      <th>Surface Coating Technology</th>\n",
       "      <td>9</td>\n",
       "    </tr>\n",
       "    <tr>\n",
       "      <th>Textile Chemistry</th>\n",
       "      <td>537</td>\n",
       "    </tr>\n",
       "    <tr>\n",
       "      <th>Textile Engineering (Fashion\\nTechnology)</th>\n",
       "      <td>195</td>\n",
       "    </tr>\n",
       "    <tr>\n",
       "      <th>Textile Plant Engineering</th>\n",
       "      <td>564</td>\n",
       "    </tr>\n",
       "    <tr>\n",
       "      <th>Textile Technology</th>\n",
       "      <td>280</td>\n",
       "    </tr>\n",
       "  </tbody>\n",
       "</table>\n",
       "</div>"
      ],
      "text/plain": [
       "                                                   Sr.No.\n",
       "Exam (JEE/MHT- CET)                                      \n",
       "Aeronautical Engineering                              526\n",
       "Agricultural Engineering                              625\n",
       "Automobile Engineering                              13039\n",
       "Bio Medical Engineering                              2992\n",
       "Bio Technology                                       3236\n",
       "CET                                               1166266\n",
       "Chemical Engineering                                11763\n",
       "Civil Engineering                                  132768\n",
       "Computer Engineering                               128675\n",
       "Computer Science and Engineering                    53997\n",
       "Computer Technology                                  5209\n",
       "Diploma                                               465\n",
       "Dyestuff Technology                                    39\n",
       "Electrical Engg [Electrical and Power]               1784\n",
       "Electrical Engg[Electronics and Power]               4652\n",
       "Electrical Engineering                              70244\n",
       "Electronics Design Technology                          83\n",
       "Electronics Engineering                             27268\n",
       "Electronics and Communication\\nEngineering          15020\n",
       "Electronics and Communication\\nTechnology             642\n",
       "Electronics and Electrical Engineering               2422\n",
       "Electronics and Telecommunication\\nEngg            128239\n",
       "Environmental Engineering                             585\n",
       "Fibres and Textile Processing\\nTechnology              44\n",
       "Food Engineering and Technology                      1147\n",
       "Industrial Engineering                                198\n",
       "Information Technology                              74922\n",
       "Instrumentation Engineering                          7877\n",
       "Instrumentation and Control\\nEngineering              745\n",
       "JEE                                               2095987\n",
       "Man Made Textile Technology                           410\n",
       "Mechanical Engineering                             193924\n",
       "Mechanical Engineering[Sandwich]                     2629\n",
       "Mechatronics Engineering                             1056\n",
       "Mining Engineering                                   1313\n",
       "Oil,Oleochemicals and Surfactants\\nTechnology          14\n",
       "Plastic and Polymer Engineering                      1044\n",
       "Polymer Engineering and Technology                      7\n",
       "Printing Engineering and Graphics\\nCommunication      616\n",
       "Production Engineering                               3717\n",
       "Production Engineering[Sandwich]                      778\n",
       "Surface Coating Technology                              9\n",
       "Textile Chemistry                                     537\n",
       "Textile Engineering (Fashion\\nTechnology)             195\n",
       "Textile Plant Engineering                             564\n",
       "Textile Technology                                    280"
      ]
     },
     "execution_count": 46,
     "metadata": {},
     "output_type": "execute_result"
    }
   ],
   "source": [
    "group_diploma.sum()"
   ]
  },
  {
   "cell_type": "code",
   "execution_count": 47,
   "metadata": {},
   "outputs": [
    {
     "data": {
      "text/plain": [
       "<matplotlib.axes._subplots.AxesSubplot at 0x2502b048cc0>"
      ]
     },
     "execution_count": 47,
     "metadata": {},
     "output_type": "execute_result"
    },
    {
     "data": {
      "image/png": "[encoded data removed]",
      "text/plain": [
       "<Figure size 432x288 with 1 Axes>"
      ]
     },
     "metadata": {
      "needs_background": "light"
     },
     "output_type": "display_data"
    }
   ],
   "source": [
    "group_diploma.get_group('Diploma').plot()"
   ]
  },
  {
   "cell_type": "code",
   "execution_count": 48,
   "metadata": {},
   "outputs": [],
   "source": [
    "import seaborn as sns\n"
   ]
  },
  {
   "cell_type": "code",
   "execution_count": 49,
   "metadata": {},
   "outputs": [],
   "source": [
    "diploma=datasetabc[datasetabc['Exam (JEE/MHT- CET)']=='Diploma'].index"
   ]
  },
  {
   "cell_type": "code",
   "execution_count": 50,
   "metadata": {},
   "outputs": [
    {
     "data": {
      "text/plain": [
       "Int64Index([1117, 1118, 1119, 1120, 1121, 1122, 1123, 1124, 1125, 1126, 1127,\n",
       "            1128, 1129, 1130, 1131, 1132, 1133, 1134, 1135, 1136, 1137, 1138,\n",
       "            1139, 1140, 1141, 1142, 1143, 1144, 1145, 1146],\n",
       "           dtype='int64')"
      ]
     },
     "execution_count": 50,
     "metadata": {},
     "output_type": "execute_result"
    }
   ],
   "source": [
    "diploma"
   ]
  },
  {
   "cell_type": "code",
   "execution_count": 51,
   "metadata": {},
   "outputs": [],
   "source": [
    "datasetabc.drop(diploma, inplace=True)"
   ]
  },
  {
   "cell_type": "code",
   "execution_count": 52,
   "metadata": {},
   "outputs": [
    {
     "data": {
      "text/html": [
       "<div>\n",
       "<style scoped>\n",
       "    .dataframe tbody tr th:only-of-type {\n",
       "        vertical-align: middle;\n",
       "    }\n",
       "\n",
       "    .dataframe tbody tr th {\n",
       "        vertical-align: top;\n",
       "    }\n",
       "\n",
       "    .dataframe thead th {\n",
       "        text-align: right;\n",
       "    }\n",
       "</style>\n",
       "<table border=\"1\" class=\"dataframe\">\n",
       "  <thead>\n",
       "    <tr style=\"text-align: right;\">\n",
       "      <th></th>\n",
       "      <th>Sr.No.</th>\n",
       "      <th>Cut Off Merit (Score)</th>\n",
       "      <th>Choice Code</th>\n",
       "      <th>Institute</th>\n",
       "      <th>Course Name</th>\n",
       "      <th>Exam (JEE/MHT- CET)</th>\n",
       "      <th>Type</th>\n",
       "      <th>Seat Type</th>\n",
       "      <th>Unnamed: 8</th>\n",
       "    </tr>\n",
       "  </thead>\n",
       "  <tbody>\n",
       "    <tr>\n",
       "      <th>0</th>\n",
       "      <td>1</td>\n",
       "      <td>145 (207)</td>\n",
       "      <td>321524510</td>\n",
       "      <td>3215 - Bhartiya Vidya Bhavan's Sardar Patel In...</td>\n",
       "      <td>Computer Engineering</td>\n",
       "      <td>JEE</td>\n",
       "      <td>AI to AI</td>\n",
       "      <td>AI</td>\n",
       "      <td>NaN</td>\n",
       "    </tr>\n",
       "    <tr>\n",
       "      <th>1</th>\n",
       "      <td>2</td>\n",
       "      <td>267 (191)</td>\n",
       "      <td>617519110</td>\n",
       "      <td>6175 - Pimpri Chinchwad Education Trust, Pimpr...</td>\n",
       "      <td>Civil Engineering</td>\n",
       "      <td>JEE</td>\n",
       "      <td>AI to AI</td>\n",
       "      <td>AI</td>\n",
       "      <td>NaN</td>\n",
       "    </tr>\n",
       "    <tr>\n",
       "      <th>2</th>\n",
       "      <td>3</td>\n",
       "      <td>310 (187)</td>\n",
       "      <td>303650710</td>\n",
       "      <td>3036 - Institute of Chemical Technology, Matun...</td>\n",
       "      <td>Chemical Engineering</td>\n",
       "      <td>JEE</td>\n",
       "      <td>AI to AI</td>\n",
       "      <td>AI</td>\n",
       "      <td>NaN</td>\n",
       "    </tr>\n",
       "    <tr>\n",
       "      <th>3</th>\n",
       "      <td>4</td>\n",
       "      <td>353 (182)</td>\n",
       "      <td>627124510</td>\n",
       "      <td>6271 - Pune Institute of Computer Technology, ...</td>\n",
       "      <td>Computer Engineering</td>\n",
       "      <td>JEE</td>\n",
       "      <td>AI to AI</td>\n",
       "      <td>AI</td>\n",
       "      <td>NaN</td>\n",
       "    </tr>\n",
       "    <tr>\n",
       "      <th>4</th>\n",
       "      <td>5</td>\n",
       "      <td>437 (175)</td>\n",
       "      <td>321524610</td>\n",
       "      <td>3215 - Bhartiya Vidya Bhavan's Sardar Patel In...</td>\n",
       "      <td>Information Technology</td>\n",
       "      <td>JEE</td>\n",
       "      <td>AI to AI</td>\n",
       "      <td>AI</td>\n",
       "      <td>NaN</td>\n",
       "    </tr>\n",
       "    <tr>\n",
       "      <th>5</th>\n",
       "      <td>6</td>\n",
       "      <td>472 (173)</td>\n",
       "      <td>303653410</td>\n",
       "      <td>3036 - Institute of Chemical Technology, Matun...</td>\n",
       "      <td>Food Engineering and Technology</td>\n",
       "      <td>JEE</td>\n",
       "      <td>AI to AI</td>\n",
       "      <td>AI</td>\n",
       "      <td>NaN</td>\n",
       "    </tr>\n",
       "    <tr>\n",
       "      <th>6</th>\n",
       "      <td>7</td>\n",
       "      <td>511 (170)</td>\n",
       "      <td>627124520</td>\n",
       "      <td>6271 - Pune Institute of Computer Technology, ...</td>\n",
       "      <td>Computer Engineering</td>\n",
       "      <td>JEE</td>\n",
       "      <td>AI to AI</td>\n",
       "      <td>AI</td>\n",
       "      <td>NaN</td>\n",
       "    </tr>\n",
       "    <tr>\n",
       "      <th>7</th>\n",
       "      <td>8</td>\n",
       "      <td>606 (164)</td>\n",
       "      <td>318161210</td>\n",
       "      <td>3181 - K.J.Somaiya College of Engineering, Vid...</td>\n",
       "      <td>Mechanical Engineering</td>\n",
       "      <td>JEE</td>\n",
       "      <td>AI to AI</td>\n",
       "      <td>AI</td>\n",
       "      <td>NaN</td>\n",
       "    </tr>\n",
       "    <tr>\n",
       "      <th>8</th>\n",
       "      <td>9</td>\n",
       "      <td>641 (163)</td>\n",
       "      <td>319924510</td>\n",
       "      <td>3199 - Shri Vile Parle Kelvani Mandal's Dwarka...</td>\n",
       "      <td>Computer Engineering</td>\n",
       "      <td>JEE</td>\n",
       "      <td>AI to AI</td>\n",
       "      <td>AI</td>\n",
       "      <td>NaN</td>\n",
       "    </tr>\n",
       "    <tr>\n",
       "      <th>9</th>\n",
       "      <td>10</td>\n",
       "      <td>646 (163)</td>\n",
       "      <td>627124610</td>\n",
       "      <td>6271 - Pune Institute of Computer Technology, ...</td>\n",
       "      <td>Information Technology</td>\n",
       "      <td>JEE</td>\n",
       "      <td>AI to AI</td>\n",
       "      <td>AI</td>\n",
       "      <td>NaN</td>\n",
       "    </tr>\n",
       "    <tr>\n",
       "      <th>10</th>\n",
       "      <td>11</td>\n",
       "      <td>769 (156)</td>\n",
       "      <td>319924610</td>\n",
       "      <td>3199 - Shri Vile Parle Kelvani Mandal's Dwarka...</td>\n",
       "      <td>Information Technology</td>\n",
       "      <td>JEE</td>\n",
       "      <td>AI to AI</td>\n",
       "      <td>AI</td>\n",
       "      <td>NaN</td>\n",
       "    </tr>\n",
       "    <tr>\n",
       "      <th>11</th>\n",
       "      <td>12</td>\n",
       "      <td>920 (150)</td>\n",
       "      <td>627324510</td>\n",
       "      <td>6273 - Bansilal Ramnath Agarawal Charitable Tr...</td>\n",
       "      <td>Computer Engineering</td>\n",
       "      <td>JEE</td>\n",
       "      <td>AI to AI</td>\n",
       "      <td>AI</td>\n",
       "      <td>NaN</td>\n",
       "    </tr>\n",
       "    <tr>\n",
       "      <th>12</th>\n",
       "      <td>13</td>\n",
       "      <td>921 (150)</td>\n",
       "      <td>321537210</td>\n",
       "      <td>3215 - Bhartiya Vidya Bhavan's Sardar Patel In...</td>\n",
       "      <td>Electronics and Telecommunication\\nEngg</td>\n",
       "      <td>JEE</td>\n",
       "      <td>AI to AI</td>\n",
       "      <td>AI</td>\n",
       "      <td>NaN</td>\n",
       "    </tr>\n",
       "    <tr>\n",
       "      <th>13</th>\n",
       "      <td>14</td>\n",
       "      <td>922 (150)</td>\n",
       "      <td>318124510</td>\n",
       "      <td>3181 - K.J.Somaiya College of Engineering, Vid...</td>\n",
       "      <td>Computer Engineering</td>\n",
       "      <td>JEE</td>\n",
       "      <td>AI to AI</td>\n",
       "      <td>AI</td>\n",
       "      <td>NaN</td>\n",
       "    </tr>\n",
       "    <tr>\n",
       "      <th>14</th>\n",
       "      <td>15</td>\n",
       "      <td>1018 (147)</td>\n",
       "      <td>627324610</td>\n",
       "      <td>6273 - Bansilal Ramnath Agarawal Charitable Tr...</td>\n",
       "      <td>Information Technology</td>\n",
       "      <td>JEE</td>\n",
       "      <td>AI to AI</td>\n",
       "      <td>AI</td>\n",
       "      <td>NaN</td>\n",
       "    </tr>\n",
       "    <tr>\n",
       "      <th>15</th>\n",
       "      <td>16</td>\n",
       "      <td>1044 (146)</td>\n",
       "      <td>303672910</td>\n",
       "      <td>3036 - Institute of Chemical Technology, Matun...</td>\n",
       "      <td>Surface Coating Technology</td>\n",
       "      <td>JEE</td>\n",
       "      <td>AI to AI</td>\n",
       "      <td>AI</td>\n",
       "      <td>NaN</td>\n",
       "    </tr>\n",
       "    <tr>\n",
       "      <th>16</th>\n",
       "      <td>17</td>\n",
       "      <td>1160 (142)</td>\n",
       "      <td>411524220</td>\n",
       "      <td>4115 - Shri Ramdeobaba College of Engineering ...</td>\n",
       "      <td>Computer Science and Engineering</td>\n",
       "      <td>JEE</td>\n",
       "      <td>AI to AI</td>\n",
       "      <td>AI</td>\n",
       "      <td>NaN</td>\n",
       "    </tr>\n",
       "    <tr>\n",
       "      <th>17</th>\n",
       "      <td>18</td>\n",
       "      <td>1337 (137)</td>\n",
       "      <td>318224510</td>\n",
       "      <td>3182 - Thadomal Shahani Engineering College, B...</td>\n",
       "      <td>Computer Engineering</td>\n",
       "      <td>JEE</td>\n",
       "      <td>AI to AI</td>\n",
       "      <td>AI</td>\n",
       "      <td>NaN</td>\n",
       "    </tr>\n",
       "    <tr>\n",
       "      <th>18</th>\n",
       "      <td>19</td>\n",
       "      <td>1429 (135)</td>\n",
       "      <td>411524610</td>\n",
       "      <td>4115 - Shri Ramdeobaba College of Engineering ...</td>\n",
       "      <td>Information Technology</td>\n",
       "      <td>JEE</td>\n",
       "      <td>AI to AI</td>\n",
       "      <td>AI</td>\n",
       "      <td>NaN</td>\n",
       "    </tr>\n",
       "    <tr>\n",
       "      <th>19</th>\n",
       "      <td>20</td>\n",
       "      <td>1449 (134)</td>\n",
       "      <td>321537610</td>\n",
       "      <td>3215 - Bhartiya Vidya Bhavan's Sardar Patel In...</td>\n",
       "      <td>Electronics Engineering</td>\n",
       "      <td>JEE</td>\n",
       "      <td>AI to AI</td>\n",
       "      <td>AI</td>\n",
       "      <td>NaN</td>\n",
       "    </tr>\n",
       "    <tr>\n",
       "      <th>20</th>\n",
       "      <td>21</td>\n",
       "      <td>1465 (134)</td>\n",
       "      <td>318124610</td>\n",
       "      <td>3181 - K.J.Somaiya College of Engineering, Vid...</td>\n",
       "      <td>Information Technology</td>\n",
       "      <td>JEE</td>\n",
       "      <td>AI to AI</td>\n",
       "      <td>AI</td>\n",
       "      <td>NaN</td>\n",
       "    </tr>\n",
       "    <tr>\n",
       "      <th>21</th>\n",
       "      <td>22</td>\n",
       "      <td>1493 (133)</td>\n",
       "      <td>303651210</td>\n",
       "      <td>3036 - Institute of Chemical Technology, Matun...</td>\n",
       "      <td>Oil,Oleochemicals and Surfactants\\nTechnology</td>\n",
       "      <td>JEE</td>\n",
       "      <td>AI to AI</td>\n",
       "      <td>AI</td>\n",
       "      <td>NaN</td>\n",
       "    </tr>\n",
       "    <tr>\n",
       "      <th>22</th>\n",
       "      <td>23</td>\n",
       "      <td>1511 (132)</td>\n",
       "      <td>319937210</td>\n",
       "      <td>3199 - Shri Vile Parle Kelvani Mandal's Dwarka...</td>\n",
       "      <td>Electronics and Telecommunication\\nEngg</td>\n",
       "      <td>JEE</td>\n",
       "      <td>AI to AI</td>\n",
       "      <td>AI</td>\n",
       "      <td>NaN</td>\n",
       "    </tr>\n",
       "    <tr>\n",
       "      <th>23</th>\n",
       "      <td>24</td>\n",
       "      <td>1515 (132)</td>\n",
       "      <td>318424510</td>\n",
       "      <td>3184 - Fr. Conceicao Rodrigues College of Engi...</td>\n",
       "      <td>Computer Engineering</td>\n",
       "      <td>JEE</td>\n",
       "      <td>AI to AI</td>\n",
       "      <td>AI</td>\n",
       "      <td>NaN</td>\n",
       "    </tr>\n",
       "    <tr>\n",
       "      <th>24</th>\n",
       "      <td>25</td>\n",
       "      <td>1594 (130)</td>\n",
       "      <td>319961210</td>\n",
       "      <td>3199 - Shri Vile Parle Kelvani Mandal's Dwarka...</td>\n",
       "      <td>Mechanical Engineering</td>\n",
       "      <td>JEE</td>\n",
       "      <td>AI to AI</td>\n",
       "      <td>AI</td>\n",
       "      <td>NaN</td>\n",
       "    </tr>\n",
       "    <tr>\n",
       "      <th>25</th>\n",
       "      <td>26</td>\n",
       "      <td>1634 (130)</td>\n",
       "      <td>627337210</td>\n",
       "      <td>6273 - Bansilal Ramnath Agarawal Charitable Tr...</td>\n",
       "      <td>Electronics and Telecommunication\\nEngg</td>\n",
       "      <td>JEE</td>\n",
       "      <td>AI to AI</td>\n",
       "      <td>AI</td>\n",
       "      <td>NaN</td>\n",
       "    </tr>\n",
       "    <tr>\n",
       "      <th>26</th>\n",
       "      <td>27</td>\n",
       "      <td>1669 (128)</td>\n",
       "      <td>627137220</td>\n",
       "      <td>6271 - Pune Institute of Computer Technology, ...</td>\n",
       "      <td>Electronics and Telecommunication\\nEngg</td>\n",
       "      <td>JEE</td>\n",
       "      <td>AI to AI</td>\n",
       "      <td>AI</td>\n",
       "      <td>NaN</td>\n",
       "    </tr>\n",
       "    <tr>\n",
       "      <th>27</th>\n",
       "      <td>28</td>\n",
       "      <td>1810 (125)</td>\n",
       "      <td>319724510</td>\n",
       "      <td>3197 - Agnel Charities' FR. C. Rodrigues Insti...</td>\n",
       "      <td>Computer Engineering</td>\n",
       "      <td>JEE</td>\n",
       "      <td>AI to AI</td>\n",
       "      <td>AI</td>\n",
       "      <td>NaN</td>\n",
       "    </tr>\n",
       "    <tr>\n",
       "      <th>28</th>\n",
       "      <td>29</td>\n",
       "      <td>1882 (124)</td>\n",
       "      <td>318524510</td>\n",
       "      <td>3185 - Vivekanand Education Society's Institut...</td>\n",
       "      <td>Computer Engineering</td>\n",
       "      <td>JEE</td>\n",
       "      <td>AI to AI</td>\n",
       "      <td>AI</td>\n",
       "      <td>NaN</td>\n",
       "    </tr>\n",
       "    <tr>\n",
       "      <th>29</th>\n",
       "      <td>30</td>\n",
       "      <td>1890 (124)</td>\n",
       "      <td>411561210</td>\n",
       "      <td>4115 - Shri Ramdeobaba College of Engineering ...</td>\n",
       "      <td>Mechanical Engineering</td>\n",
       "      <td>JEE</td>\n",
       "      <td>AI to AI</td>\n",
       "      <td>AI</td>\n",
       "      <td>NaN</td>\n",
       "    </tr>\n",
       "    <tr>\n",
       "      <th>...</th>\n",
       "      <td>...</td>\n",
       "      <td>...</td>\n",
       "      <td>...</td>\n",
       "      <td>...</td>\n",
       "      <td>...</td>\n",
       "      <td>...</td>\n",
       "      <td>...</td>\n",
       "      <td>...</td>\n",
       "      <td>...</td>\n",
       "    </tr>\n",
       "    <tr>\n",
       "      <th>7119</th>\n",
       "      <td>1169</td>\n",
       "      <td>103898 (42)</td>\n",
       "      <td>211361220</td>\n",
       "      <td>2113 - G. S. Mandal's Maharashtra Institute of...</td>\n",
       "      <td>Mechanical Engineering</td>\n",
       "      <td>CET</td>\n",
       "      <td>AI to AI</td>\n",
       "      <td>AI</td>\n",
       "      <td>NaN</td>\n",
       "    </tr>\n",
       "    <tr>\n",
       "      <th>7120</th>\n",
       "      <td>1170</td>\n",
       "      <td>103913 (42)</td>\n",
       "      <td>631561210</td>\n",
       "      <td>6315 - Holy-Wood Academy's Sanjeevan Engineeri...</td>\n",
       "      <td>Mechanical Engineering</td>\n",
       "      <td>CET</td>\n",
       "      <td>AI to AI</td>\n",
       "      <td>AI</td>\n",
       "      <td>NaN</td>\n",
       "    </tr>\n",
       "    <tr>\n",
       "      <th>7121</th>\n",
       "      <td>1171</td>\n",
       "      <td>103925 (42)</td>\n",
       "      <td>646629310</td>\n",
       "      <td>6466 - Shree Santkrupa Shikshan Sanstha, Shree...</td>\n",
       "      <td>Electrical Engineering</td>\n",
       "      <td>CET</td>\n",
       "      <td>AI to AI</td>\n",
       "      <td>AI</td>\n",
       "      <td>NaN</td>\n",
       "    </tr>\n",
       "    <tr>\n",
       "      <th>7122</th>\n",
       "      <td>1172</td>\n",
       "      <td>103949 (42)</td>\n",
       "      <td>321861210</td>\n",
       "      <td>3218 - Aldel Education Trust's St. John Colleg...</td>\n",
       "      <td>Mechanical Engineering</td>\n",
       "      <td>CET</td>\n",
       "      <td>MI to AI</td>\n",
       "      <td>MI</td>\n",
       "      <td>NaN</td>\n",
       "    </tr>\n",
       "    <tr>\n",
       "      <th>7123</th>\n",
       "      <td>1173</td>\n",
       "      <td>103960 (42)</td>\n",
       "      <td>620361210</td>\n",
       "      <td>6203 - Marathwada Mitra Mandal's Institute of ...</td>\n",
       "      <td>Mechanical Engineering</td>\n",
       "      <td>CET</td>\n",
       "      <td>AI to AI</td>\n",
       "      <td>AI</td>\n",
       "      <td>NaN</td>\n",
       "    </tr>\n",
       "    <tr>\n",
       "      <th>7124</th>\n",
       "      <td>1174</td>\n",
       "      <td>103990 (42)</td>\n",
       "      <td>675561220</td>\n",
       "      <td>6755 - JSPM Narhe Technical Campus, Pune.</td>\n",
       "      <td>Mechanical Engineering</td>\n",
       "      <td>CET</td>\n",
       "      <td>AI to AI</td>\n",
       "      <td>AI</td>\n",
       "      <td>NaN</td>\n",
       "    </tr>\n",
       "    <tr>\n",
       "      <th>7125</th>\n",
       "      <td>1175</td>\n",
       "      <td>104073 (42)</td>\n",
       "      <td>322224610</td>\n",
       "      <td>3222 - Haji Jamaluddin Thim Trust's Theem Coll...</td>\n",
       "      <td>Information Technology</td>\n",
       "      <td>CET</td>\n",
       "      <td>MI to AI</td>\n",
       "      <td>MI</td>\n",
       "      <td>NaN</td>\n",
       "    </tr>\n",
       "    <tr>\n",
       "      <th>7126</th>\n",
       "      <td>1176</td>\n",
       "      <td>104112 (42)</td>\n",
       "      <td>418719110</td>\n",
       "      <td>4187 - Dr. Babasaheb Ambedkar College of Engin...</td>\n",
       "      <td>Civil Engineering</td>\n",
       "      <td>CET</td>\n",
       "      <td>AI to AI</td>\n",
       "      <td>AI</td>\n",
       "      <td>NaN</td>\n",
       "    </tr>\n",
       "    <tr>\n",
       "      <th>7127</th>\n",
       "      <td>1177</td>\n",
       "      <td>104244 (41)</td>\n",
       "      <td>664337210</td>\n",
       "      <td>6643 - S K N Sinhgad College of Engineering, K...</td>\n",
       "      <td>Electronics and Telecommunication\\nEngg</td>\n",
       "      <td>CET</td>\n",
       "      <td>AI to AI</td>\n",
       "      <td>AI</td>\n",
       "      <td>NaN</td>\n",
       "    </tr>\n",
       "    <tr>\n",
       "      <th>7128</th>\n",
       "      <td>1178</td>\n",
       "      <td>104391 (40)</td>\n",
       "      <td>544919110</td>\n",
       "      <td>5449 - Shri. Vile Parle Kelavani Mandal's Inst...</td>\n",
       "      <td>Civil Engineering</td>\n",
       "      <td>CET</td>\n",
       "      <td>AI to AI</td>\n",
       "      <td>AI</td>\n",
       "      <td>NaN</td>\n",
       "    </tr>\n",
       "    <tr>\n",
       "      <th>7129</th>\n",
       "      <td>1179</td>\n",
       "      <td>104481 (39)</td>\n",
       "      <td>127619110</td>\n",
       "      <td>1276 - Manav School of Engineering &amp; Technolog...</td>\n",
       "      <td>Civil Engineering</td>\n",
       "      <td>CET</td>\n",
       "      <td>AI to AI</td>\n",
       "      <td>AI</td>\n",
       "      <td>NaN</td>\n",
       "    </tr>\n",
       "    <tr>\n",
       "      <th>7130</th>\n",
       "      <td>1180</td>\n",
       "      <td>104514 (39)</td>\n",
       "      <td>632361210</td>\n",
       "      <td>6323 - D. Y. Patil College of Engineering, Amb...</td>\n",
       "      <td>Mechanical Engineering</td>\n",
       "      <td>CET</td>\n",
       "      <td>AI to AI</td>\n",
       "      <td>AI</td>\n",
       "      <td>NaN</td>\n",
       "    </tr>\n",
       "    <tr>\n",
       "      <th>7131</th>\n",
       "      <td>1181</td>\n",
       "      <td>104567 (39)</td>\n",
       "      <td>418624610</td>\n",
       "      <td>4186 - Datta Meghe Institute of Medical Scienc...</td>\n",
       "      <td>Information Technology</td>\n",
       "      <td>CET</td>\n",
       "      <td>AI to AI</td>\n",
       "      <td>AI</td>\n",
       "      <td>NaN</td>\n",
       "    </tr>\n",
       "    <tr>\n",
       "      <th>7132</th>\n",
       "      <td>1182</td>\n",
       "      <td>104577 (39)</td>\n",
       "      <td>512424510</td>\n",
       "      <td>5124 - Jagadamba Education Soc. Nashik's S.N.D...</td>\n",
       "      <td>Computer Engineering</td>\n",
       "      <td>CET</td>\n",
       "      <td>AI to AI</td>\n",
       "      <td>AI</td>\n",
       "      <td>NaN</td>\n",
       "    </tr>\n",
       "    <tr>\n",
       "      <th>7133</th>\n",
       "      <td>1183</td>\n",
       "      <td>104598 (39)</td>\n",
       "      <td>533161210</td>\n",
       "      <td>5331 - Sandip Foundation's, Sandip Institute o...</td>\n",
       "      <td>Mechanical Engineering</td>\n",
       "      <td>CET</td>\n",
       "      <td>AI to AI</td>\n",
       "      <td>AI</td>\n",
       "      <td>NaN</td>\n",
       "    </tr>\n",
       "    <tr>\n",
       "      <th>7134</th>\n",
       "      <td>1184</td>\n",
       "      <td>104606 (38)</td>\n",
       "      <td>112829310</td>\n",
       "      <td>1128 - Prof Ram Meghe College of Engineering  ...</td>\n",
       "      <td>Electrical Engineering</td>\n",
       "      <td>CET</td>\n",
       "      <td>AI to AI</td>\n",
       "      <td>AI</td>\n",
       "      <td>NaN</td>\n",
       "    </tr>\n",
       "    <tr>\n",
       "      <th>7135</th>\n",
       "      <td>1185</td>\n",
       "      <td>104630 (38)</td>\n",
       "      <td>512529310</td>\n",
       "      <td>5125 - Pravara Rural Education Society's Sir V...</td>\n",
       "      <td>Electrical Engineering</td>\n",
       "      <td>CET</td>\n",
       "      <td>AI to AI</td>\n",
       "      <td>AI</td>\n",
       "      <td>NaN</td>\n",
       "    </tr>\n",
       "    <tr>\n",
       "      <th>7136</th>\n",
       "      <td>1186</td>\n",
       "      <td>104642 (38)</td>\n",
       "      <td>253329310</td>\n",
       "      <td>2533 - CSMSS Chh. Shahu College of Engineering...</td>\n",
       "      <td>Electrical Engineering</td>\n",
       "      <td>CET</td>\n",
       "      <td>AI to AI</td>\n",
       "      <td>AI</td>\n",
       "      <td>NaN</td>\n",
       "    </tr>\n",
       "    <tr>\n",
       "      <th>7137</th>\n",
       "      <td>1187</td>\n",
       "      <td>104652 (38)</td>\n",
       "      <td>213419110</td>\n",
       "      <td>2134 - Peoples Education Society's College of ...</td>\n",
       "      <td>Civil Engineering</td>\n",
       "      <td>CET</td>\n",
       "      <td>AI to AI</td>\n",
       "      <td>AI</td>\n",
       "      <td>NaN</td>\n",
       "    </tr>\n",
       "    <tr>\n",
       "      <th>7138</th>\n",
       "      <td>1188</td>\n",
       "      <td>104685 (37)</td>\n",
       "      <td>617837220</td>\n",
       "      <td>6178 - Sinhgad Technical Education Society's S...</td>\n",
       "      <td>Electronics and Telecommunication\\nEngg</td>\n",
       "      <td>CET</td>\n",
       "      <td>AI to AI</td>\n",
       "      <td>AI</td>\n",
       "      <td>NaN</td>\n",
       "    </tr>\n",
       "    <tr>\n",
       "      <th>7139</th>\n",
       "      <td>1189</td>\n",
       "      <td>104695 (37)</td>\n",
       "      <td>110761210</td>\n",
       "      <td>1107 - P. R. Pote (Patil) Education &amp; Welfare ...</td>\n",
       "      <td>Mechanical Engineering</td>\n",
       "      <td>CET</td>\n",
       "      <td>AI to AI</td>\n",
       "      <td>AI</td>\n",
       "      <td>NaN</td>\n",
       "    </tr>\n",
       "    <tr>\n",
       "      <th>7140</th>\n",
       "      <td>1190</td>\n",
       "      <td>104732 (36)</td>\n",
       "      <td>680337210</td>\n",
       "      <td>6803 - Sant Gajanan Maharaj College of Enginee...</td>\n",
       "      <td>Electronics and Telecommunication\\nEngg</td>\n",
       "      <td>CET</td>\n",
       "      <td>AI to AI</td>\n",
       "      <td>AI</td>\n",
       "      <td>NaN</td>\n",
       "    </tr>\n",
       "    <tr>\n",
       "      <th>7141</th>\n",
       "      <td>1191</td>\n",
       "      <td>104736 (36)</td>\n",
       "      <td>678619110</td>\n",
       "      <td>6786 - Dr. D. Y. Patil School of Engineering &amp;...</td>\n",
       "      <td>Civil Engineering</td>\n",
       "      <td>CET</td>\n",
       "      <td>AI to AI</td>\n",
       "      <td>AI</td>\n",
       "      <td>NaN</td>\n",
       "    </tr>\n",
       "    <tr>\n",
       "      <th>7142</th>\n",
       "      <td>1192</td>\n",
       "      <td>104739 (36)</td>\n",
       "      <td>211224210</td>\n",
       "      <td>2112 - Shree Yash Pratishthan, Shreeyash Colle...</td>\n",
       "      <td>Computer Science and Engineering</td>\n",
       "      <td>CET</td>\n",
       "      <td>AI to AI</td>\n",
       "      <td>AI</td>\n",
       "      <td>NaN</td>\n",
       "    </tr>\n",
       "    <tr>\n",
       "      <th>7143</th>\n",
       "      <td>1193</td>\n",
       "      <td>104770 (36)</td>\n",
       "      <td>410429310</td>\n",
       "      <td>4104 - Kavi Kulguru Institute of Technology &amp; ...</td>\n",
       "      <td>Electrical Engineering</td>\n",
       "      <td>CET</td>\n",
       "      <td>AI to AI</td>\n",
       "      <td>AI</td>\n",
       "      <td>NaN</td>\n",
       "    </tr>\n",
       "    <tr>\n",
       "      <th>7144</th>\n",
       "      <td>1194</td>\n",
       "      <td>104786 (35)</td>\n",
       "      <td>664361210</td>\n",
       "      <td>6643 - S K N Sinhgad College of Engineering, K...</td>\n",
       "      <td>Mechanical Engineering</td>\n",
       "      <td>CET</td>\n",
       "      <td>AI to AI</td>\n",
       "      <td>AI</td>\n",
       "      <td>NaN</td>\n",
       "    </tr>\n",
       "    <tr>\n",
       "      <th>7145</th>\n",
       "      <td>1195</td>\n",
       "      <td>104797 (35)</td>\n",
       "      <td>664361210</td>\n",
       "      <td>6643 - S K N Sinhgad College of Engineering, K...</td>\n",
       "      <td>Mechanical Engineering</td>\n",
       "      <td>CET</td>\n",
       "      <td>AI to AI</td>\n",
       "      <td>AI</td>\n",
       "      <td>NaN</td>\n",
       "    </tr>\n",
       "    <tr>\n",
       "      <th>7146</th>\n",
       "      <td>1196</td>\n",
       "      <td>104832 (34)</td>\n",
       "      <td>346761210</td>\n",
       "      <td>3467 - Vishwaniketan's Institute of Management...</td>\n",
       "      <td>Mechanical Engineering</td>\n",
       "      <td>CET</td>\n",
       "      <td>AI to AI</td>\n",
       "      <td>AI</td>\n",
       "      <td>NaN</td>\n",
       "    </tr>\n",
       "    <tr>\n",
       "      <th>7147</th>\n",
       "      <td>1197</td>\n",
       "      <td>104889 (30)</td>\n",
       "      <td>416319110</td>\n",
       "      <td>4163 - Rajiv Gandhi College of Engineering Res...</td>\n",
       "      <td>Civil Engineering</td>\n",
       "      <td>CET</td>\n",
       "      <td>AI to AI</td>\n",
       "      <td>AI</td>\n",
       "      <td>NaN</td>\n",
       "    </tr>\n",
       "    <tr>\n",
       "      <th>7148</th>\n",
       "      <td>1198</td>\n",
       "      <td>104901 (29)</td>\n",
       "      <td>111924610</td>\n",
       "      <td>1119 - Paramhansa Ramkrishna Maunibaba Shiksha...</td>\n",
       "      <td>Information Technology</td>\n",
       "      <td>CET</td>\n",
       "      <td>AI to AI</td>\n",
       "      <td>AI</td>\n",
       "      <td>NaN</td>\n",
       "    </tr>\n",
       "  </tbody>\n",
       "</table>\n",
       "<p>7119 rows × 9 columns</p>\n",
       "</div>"
      ],
      "text/plain": [
       "      Sr.No. Cut Off Merit (Score) Choice Code  \\\n",
       "0          1             145 (207)   321524510   \n",
       "1          2             267 (191)   617519110   \n",
       "2          3             310 (187)   303650710   \n",
       "3          4             353 (182)   627124510   \n",
       "4          5             437 (175)   321524610   \n",
       "5          6             472 (173)   303653410   \n",
       "6          7             511 (170)   627124520   \n",
       "7          8             606 (164)   318161210   \n",
       "8          9             641 (163)   319924510   \n",
       "9         10             646 (163)   627124610   \n",
       "10        11             769 (156)   319924610   \n",
       "11        12             920 (150)   627324510   \n",
       "12        13             921 (150)   321537210   \n",
       "13        14             922 (150)   318124510   \n",
       "14        15            1018 (147)   627324610   \n",
       "15        16            1044 (146)   303672910   \n",
       "16        17            1160 (142)   411524220   \n",
       "17        18            1337 (137)   318224510   \n",
       "18        19            1429 (135)   411524610   \n",
       "19        20            1449 (134)   321537610   \n",
       "20        21            1465 (134)   318124610   \n",
       "21        22            1493 (133)   303651210   \n",
       "22        23            1511 (132)   319937210   \n",
       "23        24            1515 (132)   318424510   \n",
       "24        25            1594 (130)   319961210   \n",
       "25        26            1634 (130)   627337210   \n",
       "26        27            1669 (128)   627137220   \n",
       "27        28            1810 (125)   319724510   \n",
       "28        29            1882 (124)   318524510   \n",
       "29        30            1890 (124)   411561210   \n",
       "...      ...                   ...         ...   \n",
       "7119    1169           103898 (42)   211361220   \n",
       "7120    1170           103913 (42)   631561210   \n",
       "7121    1171           103925 (42)   646629310   \n",
       "7122    1172           103949 (42)   321861210   \n",
       "7123    1173           103960 (42)   620361210   \n",
       "7124    1174           103990 (42)   675561220   \n",
       "7125    1175           104073 (42)   322224610   \n",
       "7126    1176           104112 (42)   418719110   \n",
       "7127    1177           104244 (41)   664337210   \n",
       "7128    1178           104391 (40)   544919110   \n",
       "7129    1179           104481 (39)   127619110   \n",
       "7130    1180           104514 (39)   632361210   \n",
       "7131    1181           104567 (39)   418624610   \n",
       "7132    1182           104577 (39)   512424510   \n",
       "7133    1183           104598 (39)   533161210   \n",
       "7134    1184           104606 (38)   112829310   \n",
       "7135    1185           104630 (38)   512529310   \n",
       "7136    1186           104642 (38)   253329310   \n",
       "7137    1187           104652 (38)   213419110   \n",
       "7138    1188           104685 (37)   617837220   \n",
       "7139    1189           104695 (37)   110761210   \n",
       "7140    1190           104732 (36)   680337210   \n",
       "7141    1191           104736 (36)   678619110   \n",
       "7142    1192           104739 (36)   211224210   \n",
       "7143    1193           104770 (36)   410429310   \n",
       "7144    1194           104786 (35)   664361210   \n",
       "7145    1195           104797 (35)   664361210   \n",
       "7146    1196           104832 (34)   346761210   \n",
       "7147    1197           104889 (30)   416319110   \n",
       "7148    1198           104901 (29)   111924610   \n",
       "\n",
       "                                              Institute  \\\n",
       "0     3215 - Bhartiya Vidya Bhavan's Sardar Patel In...   \n",
       "1     6175 - Pimpri Chinchwad Education Trust, Pimpr...   \n",
       "2     3036 - Institute of Chemical Technology, Matun...   \n",
       "3     6271 - Pune Institute of Computer Technology, ...   \n",
       "4     3215 - Bhartiya Vidya Bhavan's Sardar Patel In...   \n",
       "5     3036 - Institute of Chemical Technology, Matun...   \n",
       "6     6271 - Pune Institute of Computer Technology, ...   \n",
       "7     3181 - K.J.Somaiya College of Engineering, Vid...   \n",
       "8     3199 - Shri Vile Parle Kelvani Mandal's Dwarka...   \n",
       "9     6271 - Pune Institute of Computer Technology, ...   \n",
       "10    3199 - Shri Vile Parle Kelvani Mandal's Dwarka...   \n",
       "11    6273 - Bansilal Ramnath Agarawal Charitable Tr...   \n",
       "12    3215 - Bhartiya Vidya Bhavan's Sardar Patel In...   \n",
       "13    3181 - K.J.Somaiya College of Engineering, Vid...   \n",
       "14    6273 - Bansilal Ramnath Agarawal Charitable Tr...   \n",
       "15    3036 - Institute of Chemical Technology, Matun...   \n",
       "16    4115 - Shri Ramdeobaba College of Engineering ...   \n",
       "17    3182 - Thadomal Shahani Engineering College, B...   \n",
       "18    4115 - Shri Ramdeobaba College of Engineering ...   \n",
       "19    3215 - Bhartiya Vidya Bhavan's Sardar Patel In...   \n",
       "20    3181 - K.J.Somaiya College of Engineering, Vid...   \n",
       "21    3036 - Institute of Chemical Technology, Matun...   \n",
       "22    3199 - Shri Vile Parle Kelvani Mandal's Dwarka...   \n",
       "23    3184 - Fr. Conceicao Rodrigues College of Engi...   \n",
       "24    3199 - Shri Vile Parle Kelvani Mandal's Dwarka...   \n",
       "25    6273 - Bansilal Ramnath Agarawal Charitable Tr...   \n",
       "26    6271 - Pune Institute of Computer Technology, ...   \n",
       "27    3197 - Agnel Charities' FR. C. Rodrigues Insti...   \n",
       "28    3185 - Vivekanand Education Society's Institut...   \n",
       "29    4115 - Shri Ramdeobaba College of Engineering ...   \n",
       "...                                                 ...   \n",
       "7119  2113 - G. S. Mandal's Maharashtra Institute of...   \n",
       "7120  6315 - Holy-Wood Academy's Sanjeevan Engineeri...   \n",
       "7121  6466 - Shree Santkrupa Shikshan Sanstha, Shree...   \n",
       "7122  3218 - Aldel Education Trust's St. John Colleg...   \n",
       "7123  6203 - Marathwada Mitra Mandal's Institute of ...   \n",
       "7124          6755 - JSPM Narhe Technical Campus, Pune.   \n",
       "7125  3222 - Haji Jamaluddin Thim Trust's Theem Coll...   \n",
       "7126  4187 - Dr. Babasaheb Ambedkar College of Engin...   \n",
       "7127  6643 - S K N Sinhgad College of Engineering, K...   \n",
       "7128  5449 - Shri. Vile Parle Kelavani Mandal's Inst...   \n",
       "7129  1276 - Manav School of Engineering & Technolog...   \n",
       "7130  6323 - D. Y. Patil College of Engineering, Amb...   \n",
       "7131  4186 - Datta Meghe Institute of Medical Scienc...   \n",
       "7132  5124 - Jagadamba Education Soc. Nashik's S.N.D...   \n",
       "7133  5331 - Sandip Foundation's, Sandip Institute o...   \n",
       "7134  1128 - Prof Ram Meghe College of Engineering  ...   \n",
       "7135  5125 - Pravara Rural Education Society's Sir V...   \n",
       "7136  2533 - CSMSS Chh. Shahu College of Engineering...   \n",
       "7137  2134 - Peoples Education Society's College of ...   \n",
       "7138  6178 - Sinhgad Technical Education Society's S...   \n",
       "7139  1107 - P. R. Pote (Patil) Education & Welfare ...   \n",
       "7140  6803 - Sant Gajanan Maharaj College of Enginee...   \n",
       "7141  6786 - Dr. D. Y. Patil School of Engineering &...   \n",
       "7142  2112 - Shree Yash Pratishthan, Shreeyash Colle...   \n",
       "7143  4104 - Kavi Kulguru Institute of Technology & ...   \n",
       "7144  6643 - S K N Sinhgad College of Engineering, K...   \n",
       "7145  6643 - S K N Sinhgad College of Engineering, K...   \n",
       "7146  3467 - Vishwaniketan's Institute of Management...   \n",
       "7147  4163 - Rajiv Gandhi College of Engineering Res...   \n",
       "7148  1119 - Paramhansa Ramkrishna Maunibaba Shiksha...   \n",
       "\n",
       "                                        Course Name Exam (JEE/MHT- CET)  \\\n",
       "0                              Computer Engineering                 JEE   \n",
       "1                                 Civil Engineering                 JEE   \n",
       "2                              Chemical Engineering                 JEE   \n",
       "3                              Computer Engineering                 JEE   \n",
       "4                            Information Technology                 JEE   \n",
       "5                   Food Engineering and Technology                 JEE   \n",
       "6                              Computer Engineering                 JEE   \n",
       "7                            Mechanical Engineering                 JEE   \n",
       "8                              Computer Engineering                 JEE   \n",
       "9                            Information Technology                 JEE   \n",
       "10                           Information Technology                 JEE   \n",
       "11                             Computer Engineering                 JEE   \n",
       "12          Electronics and Telecommunication\\nEngg                 JEE   \n",
       "13                             Computer Engineering                 JEE   \n",
       "14                           Information Technology                 JEE   \n",
       "15                       Surface Coating Technology                 JEE   \n",
       "16                 Computer Science and Engineering                 JEE   \n",
       "17                             Computer Engineering                 JEE   \n",
       "18                           Information Technology                 JEE   \n",
       "19                          Electronics Engineering                 JEE   \n",
       "20                           Information Technology                 JEE   \n",
       "21    Oil,Oleochemicals and Surfactants\\nTechnology                 JEE   \n",
       "22          Electronics and Telecommunication\\nEngg                 JEE   \n",
       "23                             Computer Engineering                 JEE   \n",
       "24                           Mechanical Engineering                 JEE   \n",
       "25          Electronics and Telecommunication\\nEngg                 JEE   \n",
       "26          Electronics and Telecommunication\\nEngg                 JEE   \n",
       "27                             Computer Engineering                 JEE   \n",
       "28                             Computer Engineering                 JEE   \n",
       "29                           Mechanical Engineering                 JEE   \n",
       "...                                             ...                 ...   \n",
       "7119                         Mechanical Engineering                 CET   \n",
       "7120                         Mechanical Engineering                 CET   \n",
       "7121                         Electrical Engineering                 CET   \n",
       "7122                         Mechanical Engineering                 CET   \n",
       "7123                         Mechanical Engineering                 CET   \n",
       "7124                         Mechanical Engineering                 CET   \n",
       "7125                         Information Technology                 CET   \n",
       "7126                              Civil Engineering                 CET   \n",
       "7127        Electronics and Telecommunication\\nEngg                 CET   \n",
       "7128                              Civil Engineering                 CET   \n",
       "7129                              Civil Engineering                 CET   \n",
       "7130                         Mechanical Engineering                 CET   \n",
       "7131                         Information Technology                 CET   \n",
       "7132                           Computer Engineering                 CET   \n",
       "7133                         Mechanical Engineering                 CET   \n",
       "7134                         Electrical Engineering                 CET   \n",
       "7135                         Electrical Engineering                 CET   \n",
       "7136                         Electrical Engineering                 CET   \n",
       "7137                              Civil Engineering                 CET   \n",
       "7138        Electronics and Telecommunication\\nEngg                 CET   \n",
       "7139                         Mechanical Engineering                 CET   \n",
       "7140        Electronics and Telecommunication\\nEngg                 CET   \n",
       "7141                              Civil Engineering                 CET   \n",
       "7142               Computer Science and Engineering                 CET   \n",
       "7143                         Electrical Engineering                 CET   \n",
       "7144                         Mechanical Engineering                 CET   \n",
       "7145                         Mechanical Engineering                 CET   \n",
       "7146                         Mechanical Engineering                 CET   \n",
       "7147                              Civil Engineering                 CET   \n",
       "7148                         Information Technology                 CET   \n",
       "\n",
       "          Type Seat Type Unnamed: 8  \n",
       "0     AI to AI        AI        NaN  \n",
       "1     AI to AI        AI        NaN  \n",
       "2     AI to AI        AI        NaN  \n",
       "3     AI to AI        AI        NaN  \n",
       "4     AI to AI        AI        NaN  \n",
       "5     AI to AI        AI        NaN  \n",
       "6     AI to AI        AI        NaN  \n",
       "7     AI to AI        AI        NaN  \n",
       "8     AI to AI        AI        NaN  \n",
       "9     AI to AI        AI        NaN  \n",
       "10    AI to AI        AI        NaN  \n",
       "11    AI to AI        AI        NaN  \n",
       "12    AI to AI        AI        NaN  \n",
       "13    AI to AI        AI        NaN  \n",
       "14    AI to AI        AI        NaN  \n",
       "15    AI to AI        AI        NaN  \n",
       "16    AI to AI        AI        NaN  \n",
       "17    AI to AI        AI        NaN  \n",
       "18    AI to AI        AI        NaN  \n",
       "19    AI to AI        AI        NaN  \n",
       "20    AI to AI        AI        NaN  \n",
       "21    AI to AI        AI        NaN  \n",
       "22    AI to AI        AI        NaN  \n",
       "23    AI to AI        AI        NaN  \n",
       "24    AI to AI        AI        NaN  \n",
       "25    AI to AI        AI        NaN  \n",
       "26    AI to AI        AI        NaN  \n",
       "27    AI to AI        AI        NaN  \n",
       "28    AI to AI        AI        NaN  \n",
       "29    AI to AI        AI        NaN  \n",
       "...        ...       ...        ...  \n",
       "7119  AI to AI        AI        NaN  \n",
       "7120  AI to AI        AI        NaN  \n",
       "7121  AI to AI        AI        NaN  \n",
       "7122  MI to AI        MI        NaN  \n",
       "7123  AI to AI        AI        NaN  \n",
       "7124  AI to AI        AI        NaN  \n",
       "7125  MI to AI        MI        NaN  \n",
       "7126  AI to AI        AI        NaN  \n",
       "7127  AI to AI        AI        NaN  \n",
       "7128  AI to AI        AI        NaN  \n",
       "7129  AI to AI        AI        NaN  \n",
       "7130  AI to AI        AI        NaN  \n",
       "7131  AI to AI        AI        NaN  \n",
       "7132  AI to AI        AI        NaN  \n",
       "7133  AI to AI        AI        NaN  \n",
       "7134  AI to AI        AI        NaN  \n",
       "7135  AI to AI        AI        NaN  \n",
       "7136  AI to AI        AI        NaN  \n",
       "7137  AI to AI        AI        NaN  \n",
       "7138  AI to AI        AI        NaN  \n",
       "7139  AI to AI        AI        NaN  \n",
       "7140  AI to AI        AI        NaN  \n",
       "7141  AI to AI        AI        NaN  \n",
       "7142  AI to AI        AI        NaN  \n",
       "7143  AI to AI        AI        NaN  \n",
       "7144  AI to AI        AI        NaN  \n",
       "7145  AI to AI        AI        NaN  \n",
       "7146  AI to AI        AI        NaN  \n",
       "7147  AI to AI        AI        NaN  \n",
       "7148  AI to AI        AI        NaN  \n",
       "\n",
       "[7119 rows x 9 columns]"
      ]
     },
     "execution_count": 52,
     "metadata": {},
     "output_type": "execute_result"
    }
   ],
   "source": [
    "datasetabc"
   ]
  },
  {
   "cell_type": "code",
   "execution_count": 53,
   "metadata": {},
   "outputs": [
    {
     "data": {
      "text/plain": [
       "Int64Index([], dtype='int64')"
      ]
     },
     "execution_count": 53,
     "metadata": {},
     "output_type": "execute_result"
    }
   ],
   "source": [
    "datasetabc[datasetabc['Exam (JEE/MHT- CET)']=='Diploma'].index\n"
   ]
  },
  {
   "cell_type": "code",
   "execution_count": 54,
   "metadata": {},
   "outputs": [],
   "source": [
    "unnamed=datasetabc['Unnamed: 8'].index"
   ]
  },
  {
   "cell_type": "code",
   "execution_count": 55,
   "metadata": {},
   "outputs": [
    {
     "data": {
      "text/plain": [
       "7119"
      ]
     },
     "execution_count": 55,
     "metadata": {},
     "output_type": "execute_result"
    }
   ],
   "source": [
    "len(unnamed)"
   ]
  },
  {
   "cell_type": "code",
   "execution_count": 56,
   "metadata": {},
   "outputs": [
    {
     "data": {
      "text/plain": [
       "(7119, 9)"
      ]
     },
     "execution_count": 56,
     "metadata": {},
     "output_type": "execute_result"
    }
   ],
   "source": [
    "datasetabc.shape"
   ]
  },
  {
   "cell_type": "code",
   "execution_count": 57,
   "metadata": {},
   "outputs": [
    {
     "data": {
      "text/plain": [
       "<matplotlib.axes._subplots.AxesSubplot at 0x2502d1e4978>"
      ]
     },
     "execution_count": 57,
     "metadata": {},
     "output_type": "execute_result"
    },
    {
     "data": {
      "image/png": "[encoded data removed]",
      "text/plain": [
       "<Figure size 432x288 with 1 Axes>"
      ]
     },
     "metadata": {
      "needs_background": "light"
     },
     "output_type": "display_data"
    }
   ],
   "source": [
    "sns.distplot(unnamed)"
   ]
  },
  {
   "cell_type": "code",
   "execution_count": 58,
   "metadata": {},
   "outputs": [],
   "source": [
    "unnamedfact=pd.factorize(datasetabc['Unnamed: 8'])"
   ]
  },
  {
   "cell_type": "code",
   "execution_count": 59,
   "metadata": {},
   "outputs": [
    {
     "data": {
      "text/plain": [
       "(array([-1, -1, -1, ..., -1, -1, -1], dtype=int64),\n",
       " Index(['AI', 'GSTH', 'GOPENH', 'GNT1H', 'GOBCH', 'DEFO', 'LNT1H', 'LNT2H',\n",
       "        'GOPENO', 'GNT2H', 'LOBCH', 'LSTH', 'LOPENH', 'GSCO', 'LSCH', 'GOBCO',\n",
       "        'LSCO', 'GSTO', 'PHCH', 'LVJO', 'GNT3H', 'LOPENO', 'PH3H', 'GSCH', 'MI',\n",
       "        'GNT1O', 'GVJO', 'GVJH', 'GNT2O', 'GNT3O', 'LOBCO', 'LNT3H', 'LVJH',\n",
       "        'LSTO', 'PH2H', 'PH1H'],\n",
       "       dtype='object'))"
      ]
     },
     "execution_count": 59,
     "metadata": {},
     "output_type": "execute_result"
    }
   ],
   "source": [
    "unnamedfact\n"
   ]
  },
  {
   "cell_type": "code",
   "execution_count": 60,
   "metadata": {},
   "outputs": [
    {
     "data": {
      "text/plain": [
       "Int64Index([3606], dtype='int64')"
      ]
     },
     "execution_count": 60,
     "metadata": {},
     "output_type": "execute_result"
    }
   ],
   "source": [
    "datasetabc[datasetabc['Unnamed: 8']=='PH1H'].index"
   ]
  },
  {
   "cell_type": "code",
   "execution_count": 61,
   "metadata": {},
   "outputs": [
    {
     "data": {
      "text/plain": [
       "Sr.No.                                                                1159\n",
       "Cut Off Merit (Score)                                           86648 (74)\n",
       "Choice Code                                                      111950710\n",
       "Institute                1119 - Paramhansa Ramkrishna Maunibaba Shiksha...\n",
       "Course Name                                                            NaN\n",
       "Exam (JEE/MHT- CET)                                   Chemical Engineering\n",
       "Type                                                                   CET\n",
       "Seat Type                                                         MH to AI\n",
       "Unnamed: 8                                                           LOBCO\n",
       "Name: 3636, dtype: object"
      ]
     },
     "execution_count": 61,
     "metadata": {},
     "output_type": "execute_result"
    }
   ],
   "source": [
    "datasetabc.iloc[3606]"
   ]
  },
  {
   "cell_type": "code",
   "execution_count": 62,
   "metadata": {},
   "outputs": [
    {
     "data": {
      "text/plain": [
       "5621"
      ]
     },
     "execution_count": 62,
     "metadata": {},
     "output_type": "execute_result"
    }
   ],
   "source": [
    "datasetabc['Unnamed: 8'].isna().sum()"
   ]
  },
  {
   "cell_type": "code",
   "execution_count": 63,
   "metadata": {},
   "outputs": [],
   "source": [
    "#dividing the dataset on row 2479 please check the excel\n",
    "datasetabc_p1=datasetabc.iloc[0:2479,]"
   ]
  },
  {
   "cell_type": "code",
   "execution_count": 64,
   "metadata": {},
   "outputs": [
    {
     "data": {
      "text/plain": [
       "Sr.No.                      0\n",
       "Cut Off Merit (Score)       0\n",
       "Choice Code                 0\n",
       "Institute                   0\n",
       "Course Name                31\n",
       "Exam (JEE/MHT- CET)         0\n",
       "Type                        0\n",
       "Seat Type                   0\n",
       "Unnamed: 8               2448\n",
       "dtype: int64"
      ]
     },
     "execution_count": 64,
     "metadata": {},
     "output_type": "execute_result"
    }
   ],
   "source": [
    "datasetabc_p1.isna().sum()"
   ]
  },
  {
   "cell_type": "code",
   "execution_count": 65,
   "metadata": {},
   "outputs": [
    {
     "data": {
      "text/plain": [
       "(7119, 9)"
      ]
     },
     "execution_count": 65,
     "metadata": {},
     "output_type": "execute_result"
    }
   ],
   "source": [
    "datasetabc.shape"
   ]
  },
  {
   "cell_type": "code",
   "execution_count": 66,
   "metadata": {},
   "outputs": [],
   "source": [
    "#second partioion \n",
    "\n",
    "datasetabc_p2=datasetabc.iloc[2480:7119]"
   ]
  },
  {
   "cell_type": "code",
   "execution_count": 67,
   "metadata": {},
   "outputs": [
    {
     "data": {
      "text/plain": [
       "Int64Index([], dtype='int64')"
      ]
     },
     "execution_count": 67,
     "metadata": {},
     "output_type": "execute_result"
    }
   ],
   "source": [
    "datasetabc_p2[datasetabc_p2['Course Name']=='NaN'].index"
   ]
  },
  {
   "cell_type": "code",
   "execution_count": 68,
   "metadata": {},
   "outputs": [
    {
     "data": {
      "text/plain": [
       "Sr.No.                                                                 507\n",
       "Cut Off Merit (Score)                                           20912 (44)\n",
       "Choice Code                                                      518219110\n",
       "Institute                5182 - Kalyani Charitable Trust, Late Gambhirr...\n",
       "Course Name                                              Civil Engineering\n",
       "Exam (JEE/MHT- CET)                                                    JEE\n",
       "Type                                                              AI to AI\n",
       "Seat Type                                                               AI\n",
       "Unnamed: 8                                                             NaN\n",
       "Name: 5020, dtype: object"
      ]
     },
     "execution_count": 68,
     "metadata": {},
     "output_type": "execute_result"
    }
   ],
   "source": [
    "datasetabc_p2.iloc[2510]"
   ]
  },
  {
   "cell_type": "code",
   "execution_count": 69,
   "metadata": {},
   "outputs": [
    {
     "data": {
      "text/plain": [
       "Sr.No.                      0\n",
       "Cut Off Merit (Score)       0\n",
       "Choice Code                 0\n",
       "Institute                   0\n",
       "Course Name                31\n",
       "Exam (JEE/MHT- CET)         0\n",
       "Type                        0\n",
       "Seat Type                   0\n",
       "Unnamed: 8               2448\n",
       "dtype: int64"
      ]
     },
     "execution_count": 69,
     "metadata": {},
     "output_type": "execute_result"
    }
   ],
   "source": [
    "datasetabc_p1.isna().sum()"
   ]
  },
  {
   "cell_type": "code",
   "execution_count": 70,
   "metadata": {},
   "outputs": [
    {
     "data": {
      "text/plain": [
       "Sr.No.                      0\n",
       "Cut Off Merit (Score)       0\n",
       "Choice Code                 0\n",
       "Institute                   0\n",
       "Course Name              1466\n",
       "Exam (JEE/MHT- CET)       538\n",
       "Type                      538\n",
       "Seat Type                 538\n",
       "Unnamed: 8               3173\n",
       "dtype: int64"
      ]
     },
     "execution_count": 70,
     "metadata": {},
     "output_type": "execute_result"
    }
   ],
   "source": [
    "datasetabc_p2.isna().sum()"
   ]
  },
  {
   "cell_type": "code",
   "execution_count": 71,
   "metadata": {},
   "outputs": [
    {
     "data": {
      "text/plain": [
       "Int64Index([2510, 2511, 2512, 2513, 2514, 2515, 2516, 2517, 2518, 2519,\n",
       "            ...\n",
       "            7139, 7140, 7141, 7142, 7143, 7144, 7145, 7146, 7147, 7148],\n",
       "           dtype='int64', length=4639)"
      ]
     },
     "execution_count": 71,
     "metadata": {},
     "output_type": "execute_result"
    }
   ],
   "source": [
    "datasetabc_p2['Seat Type'].isna().index"
   ]
  },
  {
   "cell_type": "code",
   "execution_count": 72,
   "metadata": {},
   "outputs": [],
   "source": [
    "frames=[datasetabc_p1,datasetabc_p2]"
   ]
  },
  {
   "cell_type": "code",
   "execution_count": 73,
   "metadata": {},
   "outputs": [],
   "source": [
    "res1=pd.concat(frames)"
   ]
  },
  {
   "cell_type": "code",
   "execution_count": 74,
   "metadata": {},
   "outputs": [
    {
     "data": {
      "text/plain": [
       "Sr.No.                      0\n",
       "Cut Off Merit (Score)       0\n",
       "Choice Code                 0\n",
       "Institute                   0\n",
       "Course Name              1497\n",
       "Exam (JEE/MHT- CET)       538\n",
       "Type                      538\n",
       "Seat Type                 538\n",
       "Unnamed: 8               5621\n",
       "dtype: int64"
      ]
     },
     "execution_count": 74,
     "metadata": {},
     "output_type": "execute_result"
    }
   ],
   "source": [
    "res1.isna().sum()"
   ]
  },
  {
   "cell_type": "code",
   "execution_count": 75,
   "metadata": {},
   "outputs": [
    {
     "data": {
      "text/plain": [
       "Sr.No.                      0\n",
       "Cut Off Merit (Score)       0\n",
       "Choice Code                 0\n",
       "Institute                   0\n",
       "Course Name              1498\n",
       "Exam (JEE/MHT- CET)       538\n",
       "Type                      538\n",
       "Seat Type                 538\n",
       "Unnamed: 8               5621\n",
       "dtype: int64"
      ]
     },
     "execution_count": 75,
     "metadata": {},
     "output_type": "execute_result"
    }
   ],
   "source": [
    "datasetabc.isna().sum()"
   ]
  },
  {
   "cell_type": "code",
   "execution_count": 76,
   "metadata": {},
   "outputs": [
    {
     "data": {
      "text/plain": [
       "Index(['Sr.No.', 'Cut Off Merit (Score)', 'Choice Code', 'Institute',\n",
       "       'Course Name', 'Exam (JEE/MHT- CET)', 'Type', 'Seat Type',\n",
       "       'Unnamed: 8'],\n",
       "      dtype='object')"
      ]
     },
     "execution_count": 76,
     "metadata": {},
     "output_type": "execute_result"
    }
   ],
   "source": [
    "datasetabc_p1.columns"
   ]
  },
  {
   "cell_type": "code",
   "execution_count": 77,
   "metadata": {},
   "outputs": [],
   "source": [
    "dataset7=pd.read_csv('dataset7.csv')"
   ]
  },
  {
   "cell_type": "code",
   "execution_count": 78,
   "metadata": {},
   "outputs": [
    {
     "data": {
      "text/plain": [
       "Index(['Unnamed: 0', 'Sr.No.', 'Cut Off Merit (Score)', 'Choice Code',\n",
       "       'Institute', 'Course Name', 'Exam (JEE/MHT CET)', 'Type', 'Seat Type'],\n",
       "      dtype='object')"
      ]
     },
     "execution_count": 78,
     "metadata": {},
     "output_type": "execute_result"
    }
   ],
   "source": [
    "dataset7.columns"
   ]
  },
  {
   "cell_type": "code",
   "execution_count": 79,
   "metadata": {},
   "outputs": [],
   "source": [
    "#names7"
   ]
  },
  {
   "cell_type": "code",
   "execution_count": 80,
   "metadata": {},
   "outputs": [],
   "source": [
    "dataset7=dataset7.drop(columns=['Unnamed: 0'])"
   ]
  },
  {
   "cell_type": "code",
   "execution_count": 81,
   "metadata": {},
   "outputs": [],
   "source": [
    "names7=dataset7.columns"
   ]
  },
  {
   "cell_type": "code",
   "execution_count": 82,
   "metadata": {},
   "outputs": [
    {
     "data": {
      "text/plain": [
       "2448"
      ]
     },
     "execution_count": 82,
     "metadata": {},
     "output_type": "execute_result"
    }
   ],
   "source": [
    "datasetabc_p1['Unnamed: 8'].isna().sum()"
   ]
  },
  {
   "cell_type": "code",
   "execution_count": 83,
   "metadata": {},
   "outputs": [],
   "source": [
    "Unnamed_col_p1=datasetabc_p1['Unnamed: 8']\n"
   ]
  },
  {
   "cell_type": "code",
   "execution_count": 84,
   "metadata": {},
   "outputs": [],
   "source": [
    "datasetabc_p1=datasetabc_p1.drop(columns=['Unnamed: 8'])"
   ]
  },
  {
   "cell_type": "code",
   "execution_count": 85,
   "metadata": {},
   "outputs": [],
   "source": [
    "datasetabc_p1.columns=names7"
   ]
  },
  {
   "cell_type": "code",
   "execution_count": 86,
   "metadata": {},
   "outputs": [
    {
     "data": {
      "text/plain": [
       "Sr.No.                    0\n",
       "Cut Off Merit (Score)     0\n",
       "Choice Code               0\n",
       "Institute                 0\n",
       "Course Name              31\n",
       "Exam (JEE/MHT CET)        0\n",
       "Type                      0\n",
       "Seat Type                 0\n",
       "dtype: int64"
      ]
     },
     "execution_count": 86,
     "metadata": {},
     "output_type": "execute_result"
    }
   ],
   "source": [
    "datasetabc_p1.isna().sum()"
   ]
  },
  {
   "cell_type": "code",
   "execution_count": 87,
   "metadata": {},
   "outputs": [],
   "source": [
    "#for p2 partition\n",
    "Unnamed_col_p2=datasetabc_p2['Unnamed: 8']"
   ]
  },
  {
   "cell_type": "code",
   "execution_count": 88,
   "metadata": {},
   "outputs": [],
   "source": [
    "datasetabc_p2=datasetabc_p2.drop(columns=['Unnamed: 8'])"
   ]
  },
  {
   "cell_type": "code",
   "execution_count": 89,
   "metadata": {},
   "outputs": [],
   "source": [
    "datasetabc_p2.columns=names7"
   ]
  },
  {
   "cell_type": "code",
   "execution_count": 90,
   "metadata": {},
   "outputs": [
    {
     "data": {
      "text/plain": [
       "Sr.No.                      0\n",
       "Cut Off Merit (Score)       0\n",
       "Choice Code                 0\n",
       "Institute                   0\n",
       "Course Name              1466\n",
       "Exam (JEE/MHT CET)        538\n",
       "Type                      538\n",
       "Seat Type                 538\n",
       "dtype: int64"
      ]
     },
     "execution_count": 90,
     "metadata": {},
     "output_type": "execute_result"
    }
   ],
   "source": [
    "datasetabc_p2.isna().sum()"
   ]
  },
  {
   "cell_type": "code",
   "execution_count": 91,
   "metadata": {},
   "outputs": [
    {
     "data": {
      "text/plain": [
       "(4639, 8)"
      ]
     },
     "execution_count": 91,
     "metadata": {},
     "output_type": "execute_result"
    }
   ],
   "source": [
    "datasetabc_p2.shape"
   ]
  },
  {
   "cell_type": "code",
   "execution_count": 92,
   "metadata": {},
   "outputs": [
    {
     "data": {
      "text/plain": [
       "Sr.No.                      0\n",
       "Cut Off Merit (Score)       0\n",
       "Choice Code                 0\n",
       "Institute                   0\n",
       "Course Name              1466\n",
       "Exam (JEE/MHT CET)        538\n",
       "Type                      538\n",
       "Seat Type                 538\n",
       "dtype: int64"
      ]
     },
     "execution_count": 92,
     "metadata": {},
     "output_type": "execute_result"
    }
   ],
   "source": [
    "datasetabc_p2.isna().sum()"
   ]
  },
  {
   "cell_type": "code",
   "execution_count": 93,
   "metadata": {},
   "outputs": [],
   "source": [
    "unamded_p1_fact=pd.factorize(Unnamed_col_p1)"
   ]
  },
  {
   "cell_type": "code",
   "execution_count": 94,
   "metadata": {},
   "outputs": [
    {
     "data": {
      "text/plain": [
       "(array([-1, -1, -1, ...,  0,  0,  0], dtype=int64),\n",
       " Index(['AI'], dtype='object'))"
      ]
     },
     "execution_count": 94,
     "metadata": {},
     "output_type": "execute_result"
    }
   ],
   "source": [
    "unamded_p1_fact"
   ]
  },
  {
   "cell_type": "code",
   "execution_count": 95,
   "metadata": {},
   "outputs": [
    {
     "data": {
      "text/plain": [
       "2448"
      ]
     },
     "execution_count": 95,
     "metadata": {},
     "output_type": "execute_result"
    }
   ],
   "source": [
    "Unnamed_col_p1.isna().sum()"
   ]
  },
  {
   "cell_type": "code",
   "execution_count": 96,
   "metadata": {},
   "outputs": [
    {
     "data": {
      "text/plain": [
       "(2479, 8)"
      ]
     },
     "execution_count": 96,
     "metadata": {},
     "output_type": "execute_result"
    }
   ],
   "source": [
    "datasetabc_p1.shape    "
   ]
  },
  {
   "cell_type": "code",
   "execution_count": 97,
   "metadata": {},
   "outputs": [],
   "source": [
    "datasetabc_p1.to_csv('datasetabc_p1.csv')"
   ]
  },
  {
   "cell_type": "code",
   "execution_count": 98,
   "metadata": {},
   "outputs": [],
   "source": [
    "d=pd.read_csv('datasetabc_p1.csv')"
   ]
  },
  {
   "cell_type": "code",
   "execution_count": 99,
   "metadata": {},
   "outputs": [],
   "source": [
    "from sklearn.linear_model import LogisticRegression\n",
    "from sklearn.preprocessing import LabelEncoder\n",
    "from sklearn.svm import SVC\n",
    "from sklearn.tree import DecisionTreeClassifier\n",
    "from sklearn.neighbors import KNeighborsClassifier\n",
    "from sklearn.naive_bayes import GaussianNB\n",
    "model_log=LogisticRegression()\n",
    "#model_svc=SVC(kernel='poly')\n",
    "model_dtree= DecisionTreeClassifier()\n",
    "model_knn=KNeighborsClassifier()\n",
    "model_nb=GaussianNB()"
   ]
  },
  {
   "cell_type": "code",
   "execution_count": 100,
   "metadata": {},
   "outputs": [],
   "source": [
    "# reading all the dataset\n",
    "fulldata=pd.read_csv('alldatasetconcat.csv')"
   ]
  },
  {
   "cell_type": "code",
   "execution_count": 101,
   "metadata": {},
   "outputs": [
    {
     "data": {
      "text/plain": [
       "Unnamed: 0               0\n",
       "Unnamed: 0.1             0\n",
       "Unnamed: 0.1.1           0\n",
       "Sr.No.                   0\n",
       "Cut Off Merit (Score)    0\n",
       "Choice Code              0\n",
       "Institute                0\n",
       "Course Name              0\n",
       "Exam (JEE/MHT- CET)      0\n",
       "Type                     0\n",
       "Seat Type                0\n",
       "score                    0\n",
       "rank                     0\n",
       "dtype: int64"
      ]
     },
     "execution_count": 101,
     "metadata": {},
     "output_type": "execute_result"
    }
   ],
   "source": [
    "fulldata.isna().sum()"
   ]
  },
  {
   "cell_type": "code",
   "execution_count": 102,
   "metadata": {},
   "outputs": [],
   "source": [
    "#applying the model\n",
    "#defining the x and y \n",
    "\n",
    "y=fulldata['Course Name']\n",
    "\n"
   ]
  },
  {
   "cell_type": "code",
   "execution_count": 103,
   "metadata": {},
   "outputs": [],
   "source": [
    "x=fulldata.drop(columns=['Course Name'])"
   ]
  },
  {
   "cell_type": "code",
   "execution_count": 104,
   "metadata": {},
   "outputs": [],
   "source": [
    "#y=LabelEncoder().fit_transform(y)"
   ]
  },
  {
   "cell_type": "code",
   "execution_count": 105,
   "metadata": {},
   "outputs": [
    {
     "data": {
      "text/plain": [
       "Unnamed: 0               0\n",
       "Unnamed: 0.1             0\n",
       "Unnamed: 0.1.1           0\n",
       "Sr.No.                   0\n",
       "Cut Off Merit (Score)    0\n",
       "Choice Code              0\n",
       "Institute                0\n",
       "Exam (JEE/MHT- CET)      0\n",
       "Type                     0\n",
       "Seat Type                0\n",
       "score                    0\n",
       "rank                     0\n",
       "dtype: int64"
      ]
     },
     "execution_count": 105,
     "metadata": {},
     "output_type": "execute_result"
    }
   ],
   "source": [
    "x.isna().sum()"
   ]
  },
  {
   "cell_type": "code",
   "execution_count": 106,
   "metadata": {},
   "outputs": [],
   "source": [
    "x['Type']=LabelEncoder().fit_transform(x['Type'])"
   ]
  },
  {
   "cell_type": "code",
   "execution_count": 107,
   "metadata": {},
   "outputs": [],
   "source": [
    "x['Seat Type']=LabelEncoder().fit_transform(x['Seat Type'])"
   ]
  },
  {
   "cell_type": "code",
   "execution_count": 108,
   "metadata": {},
   "outputs": [],
   "source": [
    "x['Exam (JEE/MHT- CET)']=LabelEncoder().fit_transform(x['Exam (JEE/MHT- CET)'])"
   ]
  },
  {
   "cell_type": "code",
   "execution_count": 109,
   "metadata": {},
   "outputs": [],
   "source": [
    "x['Type']=LabelEncoder().fit_transform(x['Type'])"
   ]
  },
  {
   "cell_type": "code",
   "execution_count": 110,
   "metadata": {},
   "outputs": [],
   "source": [
    "x['Institute']=LabelEncoder().fit_transform(x['Institute'])"
   ]
  },
  {
   "cell_type": "code",
   "execution_count": 111,
   "metadata": {},
   "outputs": [],
   "source": [
    "x['Cut Off Merit (Score)']=LabelEncoder().fit_transform(x['Cut Off Merit (Score)'])"
   ]
  },
  {
   "cell_type": "code",
   "execution_count": 112,
   "metadata": {},
   "outputs": [],
   "source": [
    "x['Sr.No.']=LabelEncoder().fit_transform(x['Sr.No.'])"
   ]
  },
  {
   "cell_type": "code",
   "execution_count": 113,
   "metadata": {},
   "outputs": [],
   "source": [
    "x['Choice Code']=LabelEncoder().fit_transform(x['Choice Code'])"
   ]
  },
  {
   "cell_type": "code",
   "execution_count": null,
   "metadata": {},
   "outputs": [],
   "source": []
  },
  {
   "cell_type": "code",
   "execution_count": 120,
   "metadata": {},
   "outputs": [],
   "source": [
    "x.index=x['Sr.No.']"
   ]
  },
  {
   "cell_type": "code",
   "execution_count": 121,
   "metadata": {},
   "outputs": [],
   "source": [
    "z=pd.read_csv('datasetabc_p1.csv')\n",
    "#z['Choice Code']=LabelEncoder().fit_transform(z['Choice Code'])\n",
    "z=z.rename(columns={'Exam (JEE/MHT CET)':'Exam (JEE/MHT- CET)'})\n",
    "z['Type']=LabelEncoder().fit_transform(z['Type'])\n",
    "z['Seat Type']=LabelEncoder().fit_transform(z['Seat Type'])\n",
    "z['Exam (JEE/MHT- CET)']=LabelEncoder().fit_transform(z['Exam (JEE/MHT- CET)'])\n",
    "z['Type']=LabelEncoder().fit_transform(z['Type'])\n",
    "z['Institute']=LabelEncoder().fit_transform(z['Institute'])\n",
    "z['Cut Off Merit (Score)']=LabelEncoder().fit_transform(z['Cut Off Merit (Score)'])\n"
   ]
  },
  {
   "cell_type": "code",
   "execution_count": null,
   "metadata": {},
   "outputs": [],
   "source": [
    "z['Choice Code']=LabelEncoder().fit_transform(z['Choice Code'])"
   ]
  },
  {
   "cell_type": "code",
   "execution_count": null,
   "metadata": {},
   "outputs": [],
   "source": [
    "#z=z.rename(columns={'Exam (JEE/MHT CET)':'Exam (JEE/MHT- CET)'})"
   ]
  },
  {
   "cell_type": "code",
   "execution_count": null,
   "metadata": {},
   "outputs": [],
   "source": [
    "z=z.drop(columns=['Course Name'])"
   ]
  },
  {
   "cell_type": "code",
   "execution_count": null,
   "metadata": {},
   "outputs": [],
   "source": [
    "pred1=model_log.predict(z)"
   ]
  },
  {
   "cell_type": "code",
   "execution_count": null,
   "metadata": {},
   "outputs": [],
   "source": [
    "pred1"
   ]
  },
  {
   "cell_type": "code",
   "execution_count": null,
   "metadata": {},
   "outputs": [],
   "source": [
    "pred2=model_dtree.predict(z)"
   ]
  },
  {
   "cell_type": "code",
   "execution_count": null,
   "metadata": {},
   "outputs": [],
   "source": [
    "pred2"
   ]
  },
  {
   "cell_type": "code",
   "execution_count": null,
   "metadata": {},
   "outputs": [],
   "source": [
    "pred3=model_knn.predict(z)"
   ]
  },
  {
   "cell_type": "code",
   "execution_count": null,
   "metadata": {},
   "outputs": [],
   "source": [
    "pred3=pd.DataFrame(pred3)"
   ]
  },
  {
   "cell_type": "code",
   "execution_count": null,
   "metadata": {},
   "outputs": [],
   "source": [
    "from sklearn.metrics import confusion_matrix"
   ]
  },
  {
   "cell_type": "code",
   "execution_count": null,
   "metadata": {},
   "outputs": [],
   "source": [
    "d['Course Name']"
   ]
  },
  {
   "cell_type": "code",
   "execution_count": null,
   "metadata": {},
   "outputs": [],
   "source": [
    "pred1=pd.DataFrame(pred1)"
   ]
  },
  {
   "cell_type": "code",
   "execution_count": null,
   "metadata": {},
   "outputs": [],
   "source": [
    "pred1"
   ]
  },
  {
   "cell_type": "code",
   "execution_count": null,
   "metadata": {},
   "outputs": [],
   "source": [
    "pred2=pd.DataFrame(pred2)"
   ]
  },
  {
   "cell_type": "code",
   "execution_count": null,
   "metadata": {},
   "outputs": [],
   "source": [
    "pred2"
   ]
  },
  {
   "cell_type": "code",
   "execution_count": null,
   "metadata": {},
   "outputs": [],
   "source": [
    "m=d.iloc[0:30,5]\n",
    "k=pred2.iloc[0:30]"
   ]
  },
  {
   "cell_type": "code",
   "execution_count": null,
   "metadata": {},
   "outputs": [],
   "source": [
    "confusion_matrix(m,k)"
   ]
  },
  {
   "cell_type": "code",
   "execution_count": null,
   "metadata": {},
   "outputs": [],
   "source": [
    "l=pred3.iloc[0:30]"
   ]
  },
  {
   "cell_type": "code",
   "execution_count": null,
   "metadata": {},
   "outputs": [],
   "source": [
    "confusion_matrix(m,l)"
   ]
  },
  {
   "cell_type": "code",
   "execution_count": null,
   "metadata": {},
   "outputs": [],
   "source": [
    "pred4=model_nb.predict(z)\n",
    "pred4=pd.DataFrame(pred4)"
   ]
  },
  {
   "cell_type": "code",
   "execution_count": null,
   "metadata": {},
   "outputs": [],
   "source": [
    "s=pred4.iloc[0:30]"
   ]
  },
  {
   "cell_type": "code",
   "execution_count": null,
   "metadata": {},
   "outputs": [],
   "source": [
    "confusion_matrix(m,s)"
   ]
  },
  {
   "cell_type": "code",
   "execution_count": null,
   "metadata": {},
   "outputs": [],
   "source": [
    "d=d.dropna()"
   ]
  },
  {
   "cell_type": "code",
   "execution_count": null,
   "metadata": {},
   "outputs": [],
   "source": [
    "d.isna().sum()"
   ]
  },
  {
   "cell_type": "code",
   "execution_count": null,
   "metadata": {},
   "outputs": [],
   "source": [
    "d=d.rename(columns={'Exam (JEE/MHT CET)':'Exam (JEE/MHT- CET)'})"
   ]
  },
  {
   "cell_type": "code",
   "execution_count": null,
   "metadata": {},
   "outputs": [],
   "source": [
    "frames=[d,fulldata]"
   ]
  },
  {
   "cell_type": "code",
   "execution_count": null,
   "metadata": {},
   "outputs": [],
   "source": []
  },
  {
   "cell_type": "code",
   "execution_count": null,
   "metadata": {},
   "outputs": [],
   "source": [
    "res=pd.concat(frames)"
   ]
  },
  {
   "cell_type": "code",
   "execution_count": null,
   "metadata": {},
   "outputs": [],
   "source": [
    "res.isna().sum()"
   ]
  },
  {
   "cell_type": "code",
   "execution_count": null,
   "metadata": {},
   "outputs": [],
   "source": [
    "res.to_csv('newalldata.csv')"
   ]
  },
  {
   "cell_type": "code",
   "execution_count": null,
   "metadata": {},
   "outputs": [],
   "source": [
    "res.shape"
   ]
  },
  {
   "cell_type": "code",
   "execution_count": null,
   "metadata": {},
   "outputs": [],
   "source": [
    "fulldata.shape"
   ]
  },
  {
   "cell_type": "code",
   "execution_count": null,
   "metadata": {},
   "outputs": [],
   "source": [
    "fulldata=pd.read_csv('newalldata.csv')"
   ]
  },
  {
   "cell_type": "code",
   "execution_count": null,
   "metadata": {},
   "outputs": [],
   "source": [
    "fulldata"
   ]
  },
  {
   "cell_type": "code",
   "execution_count": null,
   "metadata": {},
   "outputs": [],
   "source": [
    "fulldata['Cut Off Merit (Score)']=fulldata['Cut Off Merit (Score)'].astype('str')"
   ]
  },
  {
   "cell_type": "code",
   "execution_count": null,
   "metadata": {},
   "outputs": [],
   "source": [
    "sam=fulldata['Cut Off Merit (Score)']"
   ]
  },
  {
   "cell_type": "code",
   "execution_count": null,
   "metadata": {},
   "outputs": [],
   "source": [
    "s=\"145 (207)\"\n",
    "s.split('(')\n",
    "s=s[1].split(')')\n",
    "s=s[0]\n",
    "s=int(s)\n",
    "s"
   ]
  },
  {
   "cell_type": "code",
   "execution_count": null,
   "metadata": {},
   "outputs": [],
   "source": [
    "#function to conver to score matrix into \n",
    "def score(x):\n",
    "    x=x.split(\"(\")\n",
    "    x=x[1].split(\")\")\n",
    "    x=x[0]\n",
    "    x=int(x)\n",
    "    return x"
   ]
  },
  {
   "cell_type": "code",
   "execution_count": null,
   "metadata": {},
   "outputs": [],
   "source": [
    "sam.apply(score)"
   ]
  },
  {
   "cell_type": "code",
   "execution_count": null,
   "metadata": {},
   "outputs": [],
   "source": [
    "df['column'] = df['column'].astype('str') "
   ]
  }
 ],
 "metadata": {
  "kernelspec": {
   "display_name": "Python 3",
   "language": "python",
   "name": "python3"
  },
  "language_info": {
   "codemirror_mode": {
    "name": "ipython",
    "version": 3
   },
   "file_extension": ".py",
   "mimetype": "text/x-python",
   "name": "python",
   "nbconvert_exporter": "python",
   "pygments_lexer": "ipython3",
   "version": "3.7.6"
  }
 },
 "nbformat": 4,
 "nbformat_minor": 2
}
